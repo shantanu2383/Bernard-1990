{
  "nbformat": 4,
  "nbformat_minor": 0,
  "metadata": {
    "colab": {
      "provenance": [],
      "machine_shape": "hm",
      "authorship_tag": "ABX9TyPkRYwSBpTtlBzKS8J58Nmn",
      "include_colab_link": true
    },
    "kernelspec": {
      "name": "python3",
      "display_name": "Python 3"
    },
    "language_info": {
      "name": "python"
    },
    "accelerator": "GPU",
    "gpuClass": "premium"
  },
  "cells": [
    {
      "cell_type": "markdown",
      "metadata": {
        "id": "view-in-github",
        "colab_type": "text"
      },
      "source": [
        "<a href=\"https://colab.research.google.com/github/shantanu2383/Post-Earnings-Announcement-Drfift/blob/main/Post_Earnings_Announcement_Drift.ipynb\" target=\"_parent\"><img src=\"https://colab.research.google.com/assets/colab-badge.svg\" alt=\"Open In Colab\"/></a>"
      ]
    },
    {
      "cell_type": "markdown",
      "source": [
        "***POST EARNINGS ANNOUNCEMENT DRIFT***"
      ],
      "metadata": {
        "id": "D0LdJIVozrwR"
      }
    },
    {
      "cell_type": "code",
      "source": [
        "import pandas as pd\n",
        "import statsmodels.formula.api as smf \n",
        "import numpy as np \n",
        "import matplotlib.pyplot as plt\n",
        "\n",
        "!pip install pandasql\n",
        "import os\n",
        "from datetime import datetime\n",
        "from sklearn.model_selection import train_test_split\n",
        "from statsmodels.tsa.stattools import adfuller\n",
        "from statsmodels.tsa.seasonal import seasonal_decompose\n",
        "from statsmodels.tsa.arima_model import ARIMA \n",
        "from sklearn.metrics import mean_squared_error, mean_absolute_error \n",
        "\n",
        "import math\n",
        "import matplotlib.pyplot as plt \n",
        "from datetime import datetime\n",
        "import seaborn as sns \n",
        "import pandasql as ps"
      ],
      "metadata": {
        "colab": {
          "base_uri": "https://localhost:8080/"
        },
        "id": "x1svczHIzyh5",
        "outputId": "7401fddd-6f2f-4c2f-e7ef-833e3cbee9a2"
      },
      "execution_count": null,
      "outputs": [
        {
          "output_type": "stream",
          "name": "stdout",
          "text": [
            "Looking in indexes: https://pypi.org/simple, https://us-python.pkg.dev/colab-wheels/public/simple/\n",
            "Collecting pandasql\n",
            "  Downloading pandasql-0.7.3.tar.gz (26 kB)\n",
            "  Preparing metadata (setup.py) ... \u001b[?25l\u001b[?25hdone\n",
            "Requirement already satisfied: numpy in /usr/local/lib/python3.8/dist-packages (from pandasql) (1.21.6)\n",
            "Requirement already satisfied: pandas in /usr/local/lib/python3.8/dist-packages (from pandasql) (1.3.5)\n",
            "Requirement already satisfied: sqlalchemy in /usr/local/lib/python3.8/dist-packages (from pandasql) (1.4.46)\n",
            "Requirement already satisfied: pytz>=2017.3 in /usr/local/lib/python3.8/dist-packages (from pandas->pandasql) (2022.7)\n",
            "Requirement already satisfied: python-dateutil>=2.7.3 in /usr/local/lib/python3.8/dist-packages (from pandas->pandasql) (2.8.2)\n",
            "Requirement already satisfied: greenlet!=0.4.17 in /usr/local/lib/python3.8/dist-packages (from sqlalchemy->pandasql) (2.0.1)\n",
            "Requirement already satisfied: six>=1.5 in /usr/local/lib/python3.8/dist-packages (from python-dateutil>=2.7.3->pandas->pandasql) (1.15.0)\n",
            "Building wheels for collected packages: pandasql\n",
            "  Building wheel for pandasql (setup.py) ... \u001b[?25l\u001b[?25hdone\n",
            "  Created wheel for pandasql: filename=pandasql-0.7.3-py3-none-any.whl size=26787 sha256=5d6f31db52bb1445b734a3ad9f958ef966450b376a14c255585159c6fd6e19f0\n",
            "  Stored in directory: /root/.cache/pip/wheels/ed/8f/46/a383923333728744f01ba24adbd8e364f2cb9470a8b8e5b9ff\n",
            "Successfully built pandasql\n",
            "Installing collected packages: pandasql\n",
            "Successfully installed pandasql-0.7.3\n"
          ]
        }
      ]
    },
    {
      "cell_type": "code",
      "source": [
        "from sqlite3 import connect\n",
        "conn=connect(':memory:')"
      ],
      "metadata": {
        "id": "nANWq5Cdz_r6"
      },
      "execution_count": null,
      "outputs": []
    },
    {
      "cell_type": "code",
      "source": [
        "from google.colab import drive\n",
        "drive.mount(\"/content/gdrive\", force_remount=True)"
      ],
      "metadata": {
        "colab": {
          "base_uri": "https://localhost:8080/"
        },
        "id": "rz4dp2PZ1TJq",
        "outputId": "9eb8c7f3-8668-4501-c16f-509243fcd7de"
      },
      "execution_count": null,
      "outputs": [
        {
          "output_type": "stream",
          "name": "stdout",
          "text": [
            "Mounted at /content/gdrive\n"
          ]
        }
      ]
    },
    {
      "cell_type": "code",
      "source": [
        "filepath=\"/content/gdrive/MyDrive/\""
      ],
      "metadata": {
        "id": "1QoSsDNO0DBO"
      },
      "execution_count": null,
      "outputs": []
    },
    {
      "cell_type": "markdown",
      "source": [
        "# IMPORT AND CLEAN CRSP DATA"
      ],
      "metadata": {
        "id": "tBDyXyAR3Se4"
      }
    },
    {
      "cell_type": "code",
      "source": [
        "file=filepath + \"CRSPDaily2015to20220331.csv\"\n",
        "columns=['TICKER', 'date', 'SHRCD', 'EXCHCD', 'RET']\n",
        "crsp_15_22=pd.read_csv(file, usecols=columns)[columns]\n",
        "print(crsp_15_22)"
      ],
      "metadata": {
        "colab": {
          "base_uri": "https://localhost:8080/"
        },
        "id": "uWg3g0Xs0E9r",
        "outputId": "fa29491b-e2d4-47eb-df6c-defd5bf2d7a3"
      },
      "execution_count": null,
      "outputs": [
        {
          "output_type": "stream",
          "name": "stderr",
          "text": [
            "/usr/local/lib/python3.8/dist-packages/IPython/core/interactiveshell.py:3326: DtypeWarning: Columns (49) have mixed types.Specify dtype option on import or set low_memory=False.\n",
            "  exec(code_obj, self.user_global_ns, self.user_ns)\n"
          ]
        },
        {
          "output_type": "stream",
          "name": "stdout",
          "text": [
            "         TICKER      date  SHRCD  EXCHCD        RET\n",
            "0          EGAS  20150102   11.0     2.0   0.000000\n",
            "1          EGAS  20150105   11.0     2.0   0.000000\n",
            "2          EGAS  20150106   11.0     2.0  -0.010889\n",
            "3          EGAS  20150107   11.0     2.0   0.001835\n",
            "4          EGAS  20150108   11.0     2.0   0.005494\n",
            "...         ...       ...    ...     ...        ...\n",
            "13967877   TSLA  20220325   11.0     3.0  -0.003235\n",
            "13967878   TSLA  20220328   11.0     3.0   0.080345\n",
            "13967879   TSLA  20220329   11.0     3.0    0.00708\n",
            "13967880   TSLA  20220330   11.0     3.0  -0.005075\n",
            "13967881   TSLA  20220331   11.0     3.0  -0.014982\n",
            "\n",
            "[13967882 rows x 5 columns]\n"
          ]
        }
      ]
    },
    {
      "cell_type": "code",
      "source": [
        "#Clean CRSP Data\n",
        "\n",
        "\n",
        "#Rename columns\n",
        "crsp_15_22.columns=['tic', 'date', 'shrcd', 'exchcd', 'ret']\n",
        "\n",
        "#Convert variables\n",
        "crsp_15_22['tic']=crsp_15_22['tic'].apply(str)\n",
        "crsp_15_22['date']=pd.to_datetime(crsp_15_22['date'], format=\"%Y%m%d\")\n",
        "\n",
        "x=['shrcd', 'exchcd', 'ret']\n",
        "for x in x:\n",
        "  crsp_15_22[x]=pd.to_numeric(crsp_15_22[x], errors='coerce')\n",
        "\n"
      ],
      "metadata": {
        "id": "WYkIE7iW2QrS"
      },
      "execution_count": null,
      "outputs": []
    },
    {
      "cell_type": "code",
      "source": [
        "#only keep dates after 2019\n",
        "crsp_19_22=crsp_15_22[crsp_15_22['date'] >= \"2019-01-01\"]\n",
        "\n",
        "#Only keep US based common stocks\n",
        "crsp_19_22=crsp_19_22[(crsp_19_22['shrcd']==10) | (crsp_19_22['shrcd']==11)]\n",
        "\n",
        "#Only keep NYSE/AMEX exchanges\n",
        "crsp_19_22=crsp_19_22[(crsp_19_22['exchcd']==1) | (crsp_19_22['exchcd']==31) | (crsp_19_22['exchcd']==2)| (crsp_19_22['exchcd']==32)]\n",
        "\n",
        "#Only keep firms with at least 4 quarters (252 trading days) \n",
        "crsp_19_22=crsp_19_22.groupby('tic').filter(lambda x: len(x) >= 252)\n",
        "'''\n",
        "The filter method is being called on the DataFrameGroupBy object, and it takes a function as its argument. \n",
        "This function takes a group as input and returns a boolean value indicating whether the group should be retained or not. \n",
        "In this case, the function returns True if the group has more than 252 rows, and False otherwise. \n",
        "The filter method will then return a new DataFrame with only the rows from the groups that returned \n",
        "True when passed to the function.\n",
        "'''\n",
        "\n",
        "#sort df\n",
        "crsp_19_22=crsp_19_22.sort_values(by=['tic', 'date'], ascending=True)\n",
        "\n",
        "#Drop missing/infinite values\n",
        "crsp_19_22.replace([np.inf, -np.inf], np.nan, inplace=True)\n",
        "crsp_19_22=crsp_19_22.dropna()\n",
        "\n",
        "#ReIndex\n",
        "crsp_19_22=crsp_19_22.reset_index()\n",
        "crsp_19_22.drop('index', inplace=True, axis=1)\n",
        "\n",
        "print(crsp_19_22)"
      ],
      "metadata": {
        "colab": {
          "base_uri": "https://localhost:8080/"
        },
        "id": "12zhFjMI3P01",
        "outputId": "1182d588-ed5e-4bb7-d613-f47ae3e85367"
      },
      "execution_count": null,
      "outputs": [
        {
          "output_type": "stream",
          "name": "stdout",
          "text": [
            "         tic       date  shrcd  exchcd       ret\n",
            "0          A 2019-01-02   11.0     1.0 -0.026238\n",
            "1          A 2019-01-03   11.0     1.0 -0.036840\n",
            "2          A 2019-01-04   11.0     1.0  0.034614\n",
            "3          A 2019-01-07   11.0     1.0  0.021234\n",
            "4          A 2019-01-08   11.0     1.0  0.014660\n",
            "...      ...        ...    ...     ...       ...\n",
            "1121427  ZUO 2022-03-25   11.0     1.0 -0.026025\n",
            "1121428  ZUO 2022-03-28   11.0     1.0  0.008016\n",
            "1121429  ZUO 2022-03-29   11.0     1.0  0.029158\n",
            "1121430  ZUO 2022-03-30   11.0     1.0 -0.037347\n",
            "1121431  ZUO 2022-03-31   11.0     1.0  0.002007\n",
            "\n",
            "[1121432 rows x 5 columns]\n"
          ]
        }
      ]
    },
    {
      "cell_type": "code",
      "source": [
        "crsp_19_22"
      ],
      "metadata": {
        "colab": {
          "base_uri": "https://localhost:8080/",
          "height": 441
        },
        "id": "1-JQch9PcZmp",
        "outputId": "bf1cd2e9-cd02-4e53-d273-e2630de58930"
      },
      "execution_count": null,
      "outputs": [
        {
          "output_type": "execute_result",
          "data": {
            "text/plain": [
              "         tic       date  shrcd  exchcd       ret\n",
              "0          A 2019-01-02   11.0     1.0 -0.026238\n",
              "1          A 2019-01-03   11.0     1.0 -0.036840\n",
              "2          A 2019-01-04   11.0     1.0  0.034614\n",
              "3          A 2019-01-07   11.0     1.0  0.021234\n",
              "4          A 2019-01-08   11.0     1.0  0.014660\n",
              "...      ...        ...    ...     ...       ...\n",
              "1121427  ZUO 2022-03-25   11.0     1.0 -0.026025\n",
              "1121428  ZUO 2022-03-28   11.0     1.0  0.008016\n",
              "1121429  ZUO 2022-03-29   11.0     1.0  0.029158\n",
              "1121430  ZUO 2022-03-30   11.0     1.0 -0.037347\n",
              "1121431  ZUO 2022-03-31   11.0     1.0  0.002007\n",
              "\n",
              "[1121432 rows x 5 columns]"
            ],
            "text/html": [
              "\n",
              "  <div id=\"df-1747cd9c-748a-45ff-a52b-07338b858a0c\">\n",
              "    <div class=\"colab-df-container\">\n",
              "      <div>\n",
              "<style scoped>\n",
              "    .dataframe tbody tr th:only-of-type {\n",
              "        vertical-align: middle;\n",
              "    }\n",
              "\n",
              "    .dataframe tbody tr th {\n",
              "        vertical-align: top;\n",
              "    }\n",
              "\n",
              "    .dataframe thead th {\n",
              "        text-align: right;\n",
              "    }\n",
              "</style>\n",
              "<table border=\"1\" class=\"dataframe\">\n",
              "  <thead>\n",
              "    <tr style=\"text-align: right;\">\n",
              "      <th></th>\n",
              "      <th>tic</th>\n",
              "      <th>date</th>\n",
              "      <th>shrcd</th>\n",
              "      <th>exchcd</th>\n",
              "      <th>ret</th>\n",
              "    </tr>\n",
              "  </thead>\n",
              "  <tbody>\n",
              "    <tr>\n",
              "      <th>0</th>\n",
              "      <td>A</td>\n",
              "      <td>2019-01-02</td>\n",
              "      <td>11.0</td>\n",
              "      <td>1.0</td>\n",
              "      <td>-0.026238</td>\n",
              "    </tr>\n",
              "    <tr>\n",
              "      <th>1</th>\n",
              "      <td>A</td>\n",
              "      <td>2019-01-03</td>\n",
              "      <td>11.0</td>\n",
              "      <td>1.0</td>\n",
              "      <td>-0.036840</td>\n",
              "    </tr>\n",
              "    <tr>\n",
              "      <th>2</th>\n",
              "      <td>A</td>\n",
              "      <td>2019-01-04</td>\n",
              "      <td>11.0</td>\n",
              "      <td>1.0</td>\n",
              "      <td>0.034614</td>\n",
              "    </tr>\n",
              "    <tr>\n",
              "      <th>3</th>\n",
              "      <td>A</td>\n",
              "      <td>2019-01-07</td>\n",
              "      <td>11.0</td>\n",
              "      <td>1.0</td>\n",
              "      <td>0.021234</td>\n",
              "    </tr>\n",
              "    <tr>\n",
              "      <th>4</th>\n",
              "      <td>A</td>\n",
              "      <td>2019-01-08</td>\n",
              "      <td>11.0</td>\n",
              "      <td>1.0</td>\n",
              "      <td>0.014660</td>\n",
              "    </tr>\n",
              "    <tr>\n",
              "      <th>...</th>\n",
              "      <td>...</td>\n",
              "      <td>...</td>\n",
              "      <td>...</td>\n",
              "      <td>...</td>\n",
              "      <td>...</td>\n",
              "    </tr>\n",
              "    <tr>\n",
              "      <th>1121427</th>\n",
              "      <td>ZUO</td>\n",
              "      <td>2022-03-25</td>\n",
              "      <td>11.0</td>\n",
              "      <td>1.0</td>\n",
              "      <td>-0.026025</td>\n",
              "    </tr>\n",
              "    <tr>\n",
              "      <th>1121428</th>\n",
              "      <td>ZUO</td>\n",
              "      <td>2022-03-28</td>\n",
              "      <td>11.0</td>\n",
              "      <td>1.0</td>\n",
              "      <td>0.008016</td>\n",
              "    </tr>\n",
              "    <tr>\n",
              "      <th>1121429</th>\n",
              "      <td>ZUO</td>\n",
              "      <td>2022-03-29</td>\n",
              "      <td>11.0</td>\n",
              "      <td>1.0</td>\n",
              "      <td>0.029158</td>\n",
              "    </tr>\n",
              "    <tr>\n",
              "      <th>1121430</th>\n",
              "      <td>ZUO</td>\n",
              "      <td>2022-03-30</td>\n",
              "      <td>11.0</td>\n",
              "      <td>1.0</td>\n",
              "      <td>-0.037347</td>\n",
              "    </tr>\n",
              "    <tr>\n",
              "      <th>1121431</th>\n",
              "      <td>ZUO</td>\n",
              "      <td>2022-03-31</td>\n",
              "      <td>11.0</td>\n",
              "      <td>1.0</td>\n",
              "      <td>0.002007</td>\n",
              "    </tr>\n",
              "  </tbody>\n",
              "</table>\n",
              "<p>1121432 rows × 5 columns</p>\n",
              "</div>\n",
              "      <button class=\"colab-df-convert\" onclick=\"convertToInteractive('df-1747cd9c-748a-45ff-a52b-07338b858a0c')\"\n",
              "              title=\"Convert this dataframe to an interactive table.\"\n",
              "              style=\"display:none;\">\n",
              "        \n",
              "  <svg xmlns=\"http://www.w3.org/2000/svg\" height=\"24px\"viewBox=\"0 0 24 24\"\n",
              "       width=\"24px\">\n",
              "    <path d=\"M0 0h24v24H0V0z\" fill=\"none\"/>\n",
              "    <path d=\"M18.56 5.44l.94 2.06.94-2.06 2.06-.94-2.06-.94-.94-2.06-.94 2.06-2.06.94zm-11 1L8.5 8.5l.94-2.06 2.06-.94-2.06-.94L8.5 2.5l-.94 2.06-2.06.94zm10 10l.94 2.06.94-2.06 2.06-.94-2.06-.94-.94-2.06-.94 2.06-2.06.94z\"/><path d=\"M17.41 7.96l-1.37-1.37c-.4-.4-.92-.59-1.43-.59-.52 0-1.04.2-1.43.59L10.3 9.45l-7.72 7.72c-.78.78-.78 2.05 0 2.83L4 21.41c.39.39.9.59 1.41.59.51 0 1.02-.2 1.41-.59l7.78-7.78 2.81-2.81c.8-.78.8-2.07 0-2.86zM5.41 20L4 18.59l7.72-7.72 1.47 1.35L5.41 20z\"/>\n",
              "  </svg>\n",
              "      </button>\n",
              "      \n",
              "  <style>\n",
              "    .colab-df-container {\n",
              "      display:flex;\n",
              "      flex-wrap:wrap;\n",
              "      gap: 12px;\n",
              "    }\n",
              "\n",
              "    .colab-df-convert {\n",
              "      background-color: #E8F0FE;\n",
              "      border: none;\n",
              "      border-radius: 50%;\n",
              "      cursor: pointer;\n",
              "      display: none;\n",
              "      fill: #1967D2;\n",
              "      height: 32px;\n",
              "      padding: 0 0 0 0;\n",
              "      width: 32px;\n",
              "    }\n",
              "\n",
              "    .colab-df-convert:hover {\n",
              "      background-color: #E2EBFA;\n",
              "      box-shadow: 0px 1px 2px rgba(60, 64, 67, 0.3), 0px 1px 3px 1px rgba(60, 64, 67, 0.15);\n",
              "      fill: #174EA6;\n",
              "    }\n",
              "\n",
              "    [theme=dark] .colab-df-convert {\n",
              "      background-color: #3B4455;\n",
              "      fill: #D2E3FC;\n",
              "    }\n",
              "\n",
              "    [theme=dark] .colab-df-convert:hover {\n",
              "      background-color: #434B5C;\n",
              "      box-shadow: 0px 1px 3px 1px rgba(0, 0, 0, 0.15);\n",
              "      filter: drop-shadow(0px 1px 2px rgba(0, 0, 0, 0.3));\n",
              "      fill: #FFFFFF;\n",
              "    }\n",
              "  </style>\n",
              "\n",
              "      <script>\n",
              "        const buttonEl =\n",
              "          document.querySelector('#df-1747cd9c-748a-45ff-a52b-07338b858a0c button.colab-df-convert');\n",
              "        buttonEl.style.display =\n",
              "          google.colab.kernel.accessAllowed ? 'block' : 'none';\n",
              "\n",
              "        async function convertToInteractive(key) {\n",
              "          const element = document.querySelector('#df-1747cd9c-748a-45ff-a52b-07338b858a0c');\n",
              "          const dataTable =\n",
              "            await google.colab.kernel.invokeFunction('convertToInteractive',\n",
              "                                                     [key], {});\n",
              "          if (!dataTable) return;\n",
              "\n",
              "          const docLinkHtml = 'Like what you see? Visit the ' +\n",
              "            '<a target=\"_blank\" href=https://colab.research.google.com/notebooks/data_table.ipynb>data table notebook</a>'\n",
              "            + ' to learn more about interactive tables.';\n",
              "          element.innerHTML = '';\n",
              "          dataTable['output_type'] = 'display_data';\n",
              "          await google.colab.output.renderOutput(dataTable, element);\n",
              "          const docLink = document.createElement('div');\n",
              "          docLink.innerHTML = docLinkHtml;\n",
              "          element.appendChild(docLink);\n",
              "        }\n",
              "      </script>\n",
              "    </div>\n",
              "  </div>\n",
              "  "
            ]
          },
          "metadata": {},
          "execution_count": 9
        },
        {
          "output_type": "stream",
          "name": "stdout",
          "text": [
            "Warning: total number of rows (1121432) exceeds max_rows (20000). Limiting to first (20000) rows.\n"
          ]
        }
      ]
    },
    {
      "cell_type": "markdown",
      "source": [
        "# IMPORT AND CLEAN COMPUSTAT DATA"
      ],
      "metadata": {
        "id": "K8u19WCP8-lp"
      }
    },
    {
      "cell_type": "code",
      "source": [
        "#Import Compustat Data\n",
        "\n",
        "file=filepath + \"Compustat2018Through2022.csv\"\n",
        "cs_18_22=pd.read_csv(file)\n",
        "\n",
        "print(cs_18_22)"
      ],
      "metadata": {
        "id": "-OgVyimH7NuA"
      },
      "execution_count": null,
      "outputs": []
    },
    {
      "cell_type": "code",
      "source": [
        "#parse relevant variables\n",
        "\n",
        "cs_18_22=cs_18_22.filter(['tic', 'datadate', 'fyearq', 'fqtr', 'rdq', 'cshoq', 'prccq'])\n",
        "\n",
        "#drop missing/infinite values\n",
        "cs_18_22.replace([np.inf, -np.inf], inplace=True)\n",
        "cs_18_22=cs_18_22.dropna()\n",
        "\n",
        "#import variables\n",
        "x=['datadate', 'rdq']\n",
        "for x in x:\n",
        "  cs_18_22[x]=pd.to_datetime(cs_18_22[x], format=\"%Y%m%d\")\n",
        "\n",
        "y=['fyearq', 'fqtr', 'cshoq', 'prccq']\n",
        "\n",
        "for y in y:\n",
        "  cs_18_22[y]=pd.to_numeric(cs_18_22[y], errors='coerce')\n",
        "\n",
        "#Only take dates after 2019\n",
        "cs_19_22=cs_18_22[cs_18_22['datadate'] > \"2019-01-01\"]\n",
        "\n",
        "#Add Market Value\n",
        "cs_19_22['market_value']=cs_19_22['cshoq'] * cs_19_22['prccq']\n",
        "\n",
        "#Sort dataframe\n",
        "cs_19_22=cs_19_22.sort_values(by=['tic', 'datadate'], ascending=True)\n",
        "\n",
        "#Drop missing/infinite values\n",
        "cs_19_22.replace([np.inf, -np.inf], np.nan, inplace=True)\n",
        "\n",
        "\n"
      ],
      "metadata": {
        "id": "f4ZwUCdZ84sE"
      },
      "execution_count": null,
      "outputs": []
    },
    {
      "cell_type": "code",
      "source": [
        "cs_19_22"
      ],
      "metadata": {
        "id": "Z9yn8JGM_QJP"
      },
      "execution_count": null,
      "outputs": []
    },
    {
      "cell_type": "code",
      "source": [
        "print(cs_19_22.head(10))"
      ],
      "metadata": {
        "id": "D2Cv4jxR_XN4"
      },
      "execution_count": null,
      "outputs": []
    },
    {
      "cell_type": "code",
      "source": [
        "#Drop unneeded columns\n",
        "cs_19_22.drop('cshoq', inplace=True, axis=1)\n",
        "cs_19_22.drop('prccq', inplace=True, axis=1)\n",
        "\n",
        "#Reindex\n",
        "cs_19_22=cs_19_22.reset_index()\n",
        "cs_19_22.drop('index', inplace=True, axis=1)\n",
        "print(cs_19_22)"
      ],
      "metadata": {
        "id": "IAb7TNETLFEp"
      },
      "execution_count": null,
      "outputs": []
    },
    {
      "cell_type": "markdown",
      "source": [
        "# MERGE CRSP AND COMPUSTAT DATA"
      ],
      "metadata": {
        "id": "zuIBQikuLrnv"
      }
    },
    {
      "cell_type": "code",
      "source": [
        "#Merge Compustat and CRSP Dataframes\n",
        "\n",
        "#Left Join Dataframes\n",
        "crsp_19_22.to_sql(\"crsp_19_22\", conn, if_exists='replace')\n",
        "cs_19_22.to_sql(\"cs_19_22\", conn, if_exists='replace')\n",
        "\n",
        "query=''' \n",
        "        SELECT DISTINCT crsp_19_22.tic, crsp_19_22.date, crsp_19_22.ret,\n",
        "                        cs_19_22.datadate, cs_19_22.rdq, cs_19_22.market_value\n",
        "        FROM crsp_19_22\n",
        "        LEFT JOIN cs_19_22\n",
        "        ON crsp_19_22.tic=cs_19_22.tic\n",
        "        AND crsp_19_22.date=cs_19_22.rdq\n",
        "        '''\n",
        "\n",
        "\n",
        "main_df=pd.read_sql(query, conn)\n",
        "\n",
        "#add calendar year column\n",
        "main_df['date']=pd.to_datetime(main_df['date'])\n",
        "main_df['year']=main_df['date'].dt.year\n",
        "\n",
        "#add calendar year column\n",
        "main_df['qtr']=np.ceil(main_df['date'].dt.month/3) #ceil function returns smallest integer that is smaller than or equal to result\n",
        "\n",
        "print(main_df)"
      ],
      "metadata": {
        "id": "bdXzk1ilLqvV"
      },
      "execution_count": null,
      "outputs": []
    },
    {
      "cell_type": "markdown",
      "source": [
        "# ADD SIZE DECILES"
      ],
      "metadata": {
        "id": "wd78jBM-OHxb"
      }
    },
    {
      "cell_type": "code",
      "source": [
        "#create new df with only RDQ data\n",
        "\n",
        "data_on_rdq=main_df.dropna()\n",
        "\n",
        "#Take first market value of each year for each firm\n",
        "\n",
        "market_value_year_start=data_on_rdq.groupby(['year', 'tic'], as_index=False)['market_value'].first()\n",
        "\n",
        "'''\n",
        "The first function returns the first value in each group. The resulting DataFrame, market_value_year_start, \n",
        "will have one row for each unique combination of 'year' and 'tic' values in data_on_rdq, and the 'market_value' \n",
        "column will contain the first 'market_value' value for each group. \n",
        "'''\n",
        "market_value_year_start['size_quantile']=market_value_year_start.groupby(['year'])['market_value'].rank(pct=True)\n",
        "#The resulting 'size_quantile' column will therefore contain the percentile rank of the 'market_value' within each year.\n",
        "\n",
        "#convert quantiles back to deciles\n",
        "market_value_year_start['size_decile']=np.ceil(market_value_year_start['size_quantile']*10)\n",
        "\n",
        "#merge size deciles back into main dataframe\n",
        "main_df.to_sql(\"main_df\", conn, if_exists='replace')\n",
        "market_value_year_start.to_sql(\"market_value_year_start\", conn, if_exists='replace')\n",
        "\n",
        "query= ''' \n",
        "          SELECT DISTINCT main_df.tic, main_df.date, main_df.datadate, main_df.year, main_df.qtr,\n",
        "                          main_df.ret, main_df.rdq, market_value_year_start.size_decile\n",
        "          FROM main_df\n",
        "          LEFT JOIN market_value_year_start\n",
        "          ON main_df.tic=market_value_year_start.tic\n",
        "          AND main_df.year=market_value_year_start.year\n",
        "          '''\n",
        "\n",
        "main_df=pd.read_sql(query, conn)\n",
        "\n",
        "print(main_df)"
      ],
      "metadata": {
        "id": "2t2EIPpTOBxU"
      },
      "execution_count": null,
      "outputs": []
    },
    {
      "cell_type": "markdown",
      "source": [
        "# ADD ABNORMAL RETURNS TO MAIN DATAFRAME\n",
        "\n"
      ],
      "metadata": {
        "id": "eGczbaguSy-Z"
      }
    },
    {
      "cell_type": "code",
      "source": [
        "main_df['date']=pd.to_datetime(main_df['date'])\n",
        "main_df['size_decile']=pd.to_numeric(main_df['size_decile'], errors='coerce')\n",
        "\n",
        "avg_ret=main_df.groupby(['date', 'size_decile'], as_index=False).apply(lambda x: np.average(x['ret']))\n",
        "#Groups the main dataframe by date and size decile, then applys lambda function to calculate average return for each unique date-size decile \n",
        "#combination. Resulting df has one row for each unique date-size decile and the average returns \n",
        "\n",
        "avg_ret.columns=['date', 'size_decile', 'avg_ret']\n",
        "\n",
        "\n",
        "#merge average returns back into main dataframe\n",
        "main_df.to_sql(\"main_df\", conn, if_exists='replace')\n",
        "avg_ret.to_sql(\"avg_ret\", conn, if_exists='replace')\n",
        "\n",
        "query= ''' \n",
        "        SELECT DISTINCT main_df.*, avg_ret.avg_ret\n",
        "        FROM main_df\n",
        "        LEFT JOIN avg_ret\n",
        "        ON main_df.size_decile=avg_ret.size_decile\n",
        "        AND main_df.date=avg_ret.date\n",
        "        '''\n",
        "\n",
        "main_df=pd.read_sql(query, conn)\n",
        "main_df.drop('index', inplace=True, axis=1)\n",
        "\n",
        "#calculate abnormal returns\n",
        "r=['ret', 'avg_ret']\n",
        "for r in r:\n",
        "  main_df[r]=pd.to_numeric(main_df[r], errors='coerce')\n",
        "\n",
        "main_df['abm_ret']=main_df['ret']-main_df['avg_ret']"
      ],
      "metadata": {
        "id": "D_Y90UY1Sswa"
      },
      "execution_count": null,
      "outputs": []
    },
    {
      "cell_type": "code",
      "source": [
        "print(main_df)"
      ],
      "metadata": {
        "id": "Ldeog5TxW3WV"
      },
      "execution_count": null,
      "outputs": []
    },
    {
      "cell_type": "markdown",
      "source": [
        "# IMPORT + CLEAN IBES SURPRISE HISTORY DATA"
      ],
      "metadata": {
        "id": "WIFvbWhaXlfS"
      }
    },
    {
      "cell_type": "code",
      "source": [
        "file=filepath +\"IBESSurpriseHistory.csv\"\n",
        "ibes=pd.read_csv(file)\n",
        "print(ibes)"
      ],
      "metadata": {
        "id": "qvHUG1tIXkJl"
      },
      "execution_count": null,
      "outputs": []
    },
    {
      "cell_type": "code",
      "source": [
        "print(ibes.columns)"
      ],
      "metadata": {
        "id": "PYJBq5RtYG5x"
      },
      "execution_count": null,
      "outputs": []
    },
    {
      "cell_type": "code",
      "source": [
        "#Only keep data after 2019\n",
        "y=['PYEAR', 'PMON']\n",
        "for y in y:\n",
        "  ibes[y]=pd.to_numeric(ibes[y], errors='coerce')\n",
        "ibes=ibes[ibes['PYEAR']>=2019]\n",
        "\n",
        "\n",
        "#Only keep quarterly data\n",
        "ibes=ibes[ibes['FISCALP']==\"QTR\"]\n",
        "\n",
        "#Only keep earnings per share data\n",
        "ibes=ibes[ibes['MEASURE']==\"EPS\"]\n",
        "\n",
        "#ReIndex\n",
        "ibes=ibes.reset_index()\n",
        "ibes.drop('index', inplace=True, axis=1)\n",
        "\n",
        "#add datadate of each row (last day of that month)\n",
        "ibes['DAY']=1 #temporary day of month column\n",
        "ibes['datadate']=pd.to_datetime((10000 * ibes['PYEAR'] + 100 * ibes['PMON'] + ibes['DAY']).apply(str), format=\"%Y%m%d\") #initially set to 1st of that month\n",
        "ibes['datadate']=pd.to_datetime((10000 * ibes['PYEAR'] + 100 * ibes['PMON'] + ibes['datadate'].dt.days_in_month).apply(str), format=\"%Y%m%d\") #set to last day of month\n",
        "\n",
        "print(ibes.datadate)\n"
      ],
      "metadata": {
        "id": "maevR7kuYXMl"
      },
      "execution_count": null,
      "outputs": []
    },
    {
      "cell_type": "code",
      "source": [
        "#parse relevant columns\n",
        "ibes=ibes.filter(['OFTIC', 'PYEAR', 'PMON', 'suescore', 'datadate'])\n",
        "ibes.columns=['tic', 'year', 'month', 'sue', 'datadate']\n",
        "\n",
        "#drop missing infinite/missing values\n",
        "ibes.replace([np.inf, -np.inf], np.nan, inplace=True)\n",
        "ibes=ibes.dropna()\n",
        "\n",
        "#sort dataframe\n",
        "ibes=ibes.sort_values(by=['tic', 'datadate'], ascending=True)\n",
        "\n",
        "#reindex\n",
        "ibes=ibes.reset_index()\n",
        "ibes.drop('index', inplace=True, axis=1)\n",
        "\n",
        "print(ibes)"
      ],
      "metadata": {
        "id": "CR6L8yefdqvC"
      },
      "execution_count": null,
      "outputs": []
    },
    {
      "cell_type": "markdown",
      "source": [
        "# MERGE SUE DATA FROM IBES INTO MAIN DATAFRAME"
      ],
      "metadata": {
        "id": "XB-BblrCeu00"
      }
    },
    {
      "cell_type": "code",
      "source": [
        "#LEFT JOIN IBES DATA INTO MAIN DATAFRAME\n",
        "main_df.to_sql(\"main_df\", conn, if_exists='replace')\n",
        "ibes.to_sql(\"ibes\", conn, if_exists='replace')\n",
        "\n",
        "query=''' \n",
        "        SELECT DISTINCT main_df.*, ibes.sue\n",
        "        FROM main_df\n",
        "        LEFT JOIN ibes\n",
        "        ON main_df.tic=ibes.tic AND main_df.datadate=ibes.datadate\n",
        "        '''\n",
        "main_df=pd.read_sql(query, conn)\n",
        "main_df.drop('index', inplace=True, axis=1)\n",
        "\n",
        "print(main_df)\n"
      ],
      "metadata": {
        "id": "1D33rF--eycq"
      },
      "execution_count": null,
      "outputs": []
    },
    {
      "cell_type": "markdown",
      "source": [
        "# ADD SUE DECILES DATA FROM THE PRIOR QUARTER"
      ],
      "metadata": {
        "id": "dbglrhjAuXAC"
      }
    },
    {
      "cell_type": "code",
      "source": [
        "#ADD SUE DECILES DATA FROM THE PRIOR QUARTER\n",
        "\n",
        "#filter for only data on rdq\n",
        "data_on_rdq=main_df.dropna()\n",
        "\n",
        "#take unique year and quarter to decrease runtime\n",
        "data_on_rdq.to_sql(\"data_on_rdq\", conn, if_exists='replace')\n",
        "\n",
        "query=''' \n",
        "        SELECT DISTINCT year, qtr\n",
        "        FROM data_on_rdq\n",
        "        '''\n",
        "\n",
        "sue_deciles=pd.read_sql(query, conn)\n",
        "\n",
        "#generate new dataframe with quartiles of each year\n",
        "for i in range(1, 10):\n",
        "  current_decile=data_on_rdq.groupby(['year', 'qtr'])['sue'].quantile(i/10)\n",
        "  sue_deciles['prior_quarter_sue_decile' + str(i)]=\"\"\n",
        "  for j in sue_deciles.index:\n",
        "    sue_deciles['prior_quarter_sue_decile' + str(i)][j]=current_decile[sue_deciles['year'][j], sue_deciles['qtr'][j]]\n",
        "  sue_deciles['prior_quarter_sue_decile' + str(i)]=sue_deciles['prior_quarter_sue_decile' + str(i)].shift(1)\n",
        "  sue_deciles['prior_quarter_sue_decile'+ str(i)]=pd.to_numeric(sue_deciles['prior_quarter_sue_decile' + str(i)], errors='coerce')   \n",
        "  \n",
        "  \n",
        "'''\n",
        "We create a new data frame called \"sue deciles\" and add 10 columns to it\n",
        "We then loop over every row in this dataframe and retrive the values from the current decile based on year and quarter in the sue\n",
        "decile\n",
        "We then shift the values we created by one column and convert to numeric\n",
        "'''                                                                                                "
      ],
      "metadata": {
        "id": "gV_ILSN1f1Z7"
      },
      "execution_count": null,
      "outputs": []
    },
    {
      "cell_type": "code",
      "source": [
        "print(sue_deciles)"
      ],
      "metadata": {
        "id": "tQnMnnE8nJwr"
      },
      "execution_count": null,
      "outputs": []
    },
    {
      "cell_type": "code",
      "source": [
        "print(data_on_rdq.columns)"
      ],
      "metadata": {
        "id": "tlXA1DWyt0wP"
      },
      "execution_count": null,
      "outputs": []
    },
    {
      "cell_type": "code",
      "source": [],
      "metadata": {
        "id": "2y7CpEZy_uec"
      },
      "execution_count": null,
      "outputs": []
    },
    {
      "cell_type": "code",
      "source": [
        "#Merge SUE quantiles\n",
        "\n",
        "data_on_rdq.to_sql(\"d\", conn, if_exists='replace')\n",
        "sue_deciles.to_sql(\"s\", conn, if_exists='replace')\n",
        "\n",
        "\n",
        "query=''' \n",
        "      SELECT DISTINCT data_on_rdq.*, sue_deciles.prior_quarter_sue_decile1, sue_deciles.prior_quarter_sue_decile2, sue_deciles.prior_quarter_sue_decile3,\n",
        "      sue_deciles.prior_quarter_sue_decile4, sue_deciles.prior_quarter_sue_decile5, sue_deciles.prior_quarter_sue_decile6, sue_deciles.prior_quarter_sue_decile7,\n",
        "      sue_deciles.prior_quarter_sue_decile8, sue_deciles.prior_quarter_sue_decile9\n",
        "      FROM d data_on_rdq\n",
        "      LEFT JOIN s sue_deciles\n",
        "      ON data_on_rdq.year=sue_deciles.year\n",
        "      AND data_on_rdq.qtr=sue_deciles.qtr\n",
        "      '''\n",
        "data_on_rdq=pd.read_sql(query, conn)\n",
        "\n",
        "#Drop Index Columns\n",
        "data_on_rdq.drop('index', inplace=True, axis=1)\n",
        "\n",
        "#Drop first quarter data of every firm (null SUE prior quarter)\n",
        "data_on_rdq=data_on_rdq.dropna()\n",
        "\n",
        "#Drop 2nd quarter of overall data (2019q2 due to insufficient sample size in 2019Q1 to rank SUE)\n",
        "\n",
        "data_on_rdq=data_on_rdq[(data_on_rdq['year'] != 2019) | (data_on_rdq['qtr']!=2)]\n",
        "\n",
        "#Reindex\n",
        "data_on_rdq=data_on_rdq.reset_index()\n",
        "data_on_rdq.drop('index', inplace=True, axis=1)"
      ],
      "metadata": {
        "id": "RPHIoJ11p0hu"
      },
      "execution_count": null,
      "outputs": []
    },
    {
      "cell_type": "code",
      "source": [
        "print(data_on_rdq.columns)\n"
      ],
      "metadata": {
        "id": "cTFYMN2mu9Fs"
      },
      "execution_count": null,
      "outputs": []
    },
    {
      "cell_type": "code",
      "source": [
        "data_on_rdq"
      ],
      "metadata": {
        "id": "BKPM514W5T0_"
      },
      "execution_count": null,
      "outputs": []
    },
    {
      "cell_type": "code",
      "source": [
        "#assign each row to corresponding SUE deciles\n",
        "\n",
        "data_on_rdq['sue_decile']=\"\"\n",
        "data_on_rdq['sue']=pd.to_numeric(data_on_rdq['sue'], errors='coerce')\n",
        "\n",
        "for i in data_on_rdq.index:\n",
        "  if data_on_rdq['sue'][i] <= data_on_rdq['prior_quarter_sue_decile1'][i]:\n",
        "    data_on_rdq['sue_decile'][i]= 1\n",
        "  elif data_on_rdq['prior_quarter_sue_decile1'][i] < data_on_rdq['sue'][i] <= data_on_rdq['prior_quarter_sue_decile2'][i]:\n",
        "    data_on_rdq['sue_decile'][i]=2\n",
        "  elif data_on_rdq['prior_quarter_sue_decile2'][i] < data_on_rdq['sue'][i] <= data_on_rdq['prior_quarter_sue_decile3'][i]:\n",
        "    data_on_rdq['sue_decile'][i]=3\n",
        "  elif data_on_rdq['prior_quarter_sue_decile3'][i] < data_on_rdq['sue'][i] <= data_on_rdq['prior_quarter_sue_decile4'][i]:\n",
        "    data_on_rdq['sue_decile'][i]=4\n",
        "  elif data_on_rdq['prior_quarter_sue_decile4'][i] < data_on_rdq['sue'][i] <= data_on_rdq['prior_quarter_sue_decile5'][i]:\n",
        "    data_on_rdq['sue_decile'][i]=5\n",
        "  elif data_on_rdq['prior_quarter_sue_decile5'][i] < data_on_rdq['sue'][i] <= data_on_rdq['prior_quarter_sue_decile6'][i]:\n",
        "    data_on_rdq['sue_decile'][i]=6\n",
        "  elif data_on_rdq['prior_quarter_sue_decile6'][i] < data_on_rdq['sue'][i] <= data_on_rdq['prior_quarter_sue_decile7'][i]:\n",
        "    data_on_rdq['sue_decile'][i]=7\n",
        "  elif data_on_rdq['prior_quarter_sue_decile7'][i] < data_on_rdq['sue'][i] <= data_on_rdq['prior_quarter_sue_decile8'][i]:\n",
        "    data_on_rdq['sue_decile'][i]=8\n",
        "  elif data_on_rdq['prior_quarter_sue_decile8'][i] < data_on_rdq['sue'][i] <= data_on_rdq['prior_quarter_sue_decile9'][i]:\n",
        "    data_on_rdq['sue_decile'][i]=9\n",
        "  elif data_on_rdq['sue'][i]>data_on_rdq['prior_quarter_sue_decile9'][i]:\n",
        "    data_on_rdq['sue_decile'][i]=10\n",
        "  else:\n",
        "    print(\"error at row\" +str(i))\n",
        "    break\n",
        "\n",
        "#drop decile values\n",
        "todrop=[]\n",
        "\n",
        "for i in range (1, 10):\n",
        "  todrop.append('prior_quarter_sue_decile' + str(i))\n",
        "\n",
        "data_on_rdq.drop(todrop, inplace=True, axis=1)\n",
        "  "
      ],
      "metadata": {
        "id": "4pAExlMJuIKw"
      },
      "execution_count": null,
      "outputs": []
    },
    {
      "cell_type": "code",
      "source": [
        "#Merge SUE decile data with main df\n",
        "\n",
        "main_df.to_sql(\"main_df\", conn, if_exists='replace')\n",
        "data_on_rdq.to_sql(\"data_on_rdq\", conn, if_exists='replace')\n",
        "\n",
        "query='''\n",
        "        SELECT DISTINCT main_df.*, data_on_rdq.sue_decile\n",
        "        FROM main_df\n",
        "        LEFT JOIN data_on_rdq\n",
        "        ON main_df.tic=data_on_rdq.tic\n",
        "        AND main_df.year=data_on_rdq.year\n",
        "        AND main_df.qtr=data_on_rdq.qtr\n",
        "        '''\n",
        "\n",
        "main_df=pd.read_sql(query, conn)\n",
        "\n",
        "#Drop index columns\n",
        "main_df.drop('index', inplace=True, axis=1)\n",
        "\n",
        "#convert variable\n",
        "\n",
        "d=['date', 'datadate', 'rdq']\n",
        "for d in d:\n",
        "  main_df[d]=pd.to_datetime(main_df[d], errors='coerce')\n",
        "\n",
        "main_df['tic']=main_df['tic'].apply(str)\n",
        "\n",
        "#only keep one row of data per tic and date\n",
        "main_df=main_df.groupby(['tic', 'date'], as_index=False)\n",
        "main_df=main_df.first() #selects first row from each group"
      ],
      "metadata": {
        "id": "_p0AKsIQwnUr"
      },
      "execution_count": null,
      "outputs": []
    },
    {
      "cell_type": "markdown",
      "source": [
        "### DATA CLEANING COMPLETE"
      ],
      "metadata": {
        "id": "eEQS8pTR4VnY"
      }
    },
    {
      "cell_type": "markdown",
      "source": [
        "# CALCULATE CAR FOR ALL FIRMS"
      ],
      "metadata": {
        "id": "rMxJqsZ64bao"
      }
    },
    {
      "cell_type": "code",
      "source": [
        "#STORE DF for future uses\n",
        "\n",
        "cleaned_df=main_df\n",
        "\n",
        "#gen new dataframe with tic, SUE decile and size decile on RDQ\n",
        "\n",
        "tic_of_rdq=main_df.dropna()\n",
        "tic_of_rdq=tic_of_rdq.filter(['tic', 'sue_decile', 'size_decile'])\n",
        "\n",
        "#Generate new groupby variable of abnormal return with tic and original index as indices\n",
        "\n",
        "abn_ret=main_df.reset_index()#generate new index to pop original one out as 'index'\n",
        "abn_ret.columns=['original_index', 'tic', 'date', 'datadate', 'year', 'qtr', 'ret', 'rdq', 'size_decile', 'avg_ret', 'abn_ret', 'sue', 'sue_decile']\n",
        "#rename index to original index\n",
        "\n",
        "abn_ret=abn_ret.groupby(['tic', 'original_index'], as_index=False)['abn_ret'].first() #group by tic and original_index and make them the new indices\n",
        "abn_ret['new_index']=abn_ret['tic'].apply(str) + \"/\" + abn_ret['original_index'].apply(str)\n",
        "abn_ret=abn_ret.set_index('new_index')\n",
        "\n",
        "#create new array to store CAR around RDQ\n",
        "\n",
        "car_array_beforeall=[]\n",
        "car_array_afterall=[]\n",
        "\n",
        "for i in range(11):\n",
        "  car_array_beforeall.append([])\n",
        "  car_array_afterall.append([])\n",
        "\n",
        "\n",
        "\n",
        "\n",
        "\n"
      ],
      "metadata": {
        "id": "KqcZGviD4hrM"
      },
      "execution_count": null,
      "outputs": []
    },
    {
      "cell_type": "code",
      "source": [
        "tic_of_rdq"
      ],
      "metadata": {
        "id": "E8Xw9cTd1jFf"
      },
      "execution_count": null,
      "outputs": []
    },
    {
      "cell_type": "code",
      "source": [
        "n=60\n",
        "\n",
        "for rdqdate in tic_of_rdq.index:\n",
        "  #generate indiced for abnormal returns dataframe\n",
        "  ndaysbeforeindex=str(tic_of_rdq['tic'][rdqdate]) + \"/\" + str(rdqdate-n)\n",
        "  rdqdateindex=str(tic_of_rdq['tic'][rdqdate]) + \"/\" + str(rdqdate)\n",
        "  ndaysafterindex=str(tic_of_rdq['tic'][rdqdate]) + \"/\" + str(rdqdate + n)\n",
        "  if (ndaysbeforeindex in abn_ret.index) and (ndaysafterindex in abn_ret.index):\n",
        "    #add n days before CAR\n",
        "    beforeDF=pd.DataFrame(abn_ret.loc[ndaysbeforeindex : rdqdateindex]).reset_index()\n",
        "    beforeDF['car']=beforeDF['abn_ret'].cumsum()-beforeDF['abn_ret'][0] #calculate car (sum of all abn_ret -first abn_ret)\n",
        "    car_array_beforeall[tic_of_rdq['sue_decile'][rdqdate].astype(int)].append(beforeDF['car'])\n",
        "    #add n days after CAR\n",
        "    afterDF=pd.DataFrame(abn_ret.loc[rdqdateindex : ndaysafterindex]).reset_index()\n",
        "    afterDF['car']=afterDF['abn_ret'].cumsum()-afterDF['abn_ret'][0] #calculate car (sum of all abn_ret -first abn_ret)\n",
        "    car_array_afterall[tic_of_rdq['sue_decile'][rdqdate].astype(int)].append(afterDF['car'])"
      ],
      "metadata": {
        "id": "EEYVRMNv86MQ"
      },
      "execution_count": null,
      "outputs": []
    },
    {
      "cell_type": "code",
      "source": [
        "print(beforeDF)"
      ],
      "metadata": {
        "id": "E0nmldNB0MuE"
      },
      "execution_count": null,
      "outputs": []
    },
    {
      "cell_type": "code",
      "source": [
        "'''\n",
        "The above code does the following:\n",
        "1. Create 3 strings which can be used to reference the index in abn_ret column\n",
        "2. Check if 'ndaysbefore' and 'ndaysafter' are in the index of abn_ret\n",
        "3. If 2 is satisfied:\n",
        "\n",
        ". Create a new df (beforeDF) and selects rows from abn_ret with index values\n",
        " between 'ndaysbefore' and 'rdqdateindex' (and reset index)\n",
        ". Create a new column in df called 'car' which = cumulative sum of 'abn_ret\" column minus first value of abn_ret column\n",
        ".Append this beforeDF['car'] value to the appropriate list in 'car_array_beforeall' \n",
        " using the 'sue_decile' column of 'tic_of_rdq' as an index.\n",
        "'''"
      ],
      "metadata": {
        "id": "ELFR8k1LCmjA"
      },
      "execution_count": null,
      "outputs": []
    },
    {
      "cell_type": "markdown",
      "source": [
        "# STORE CAR DATA (BEFORE RDQ) IN A NEW ARRAY BY DECILE AND DAY"
      ],
      "metadata": {
        "id": "wZ1YEPLXFJ4B"
      }
    },
    {
      "cell_type": "code",
      "source": [
        "#ALL FIRMS: Generate new CAR arrays for each decile and each day\n",
        "\n",
        "#create new array to store CAR data on each day before RDQ\n",
        "\n",
        "CAR_all_by_days_before=[] #n days before RDQ\n",
        "#set up empty array\n",
        "for i in range(11):\n",
        "  CAR_all_by_days_before.append([])\n",
        "  for j in range(61):\n",
        "    CAR_all_by_days_before[i].append([])\n",
        "\n",
        "#Add CAR data\n",
        "for i in range(len(car_array_beforeall)):\n",
        "  for j in range(len(car_array_beforeall[i])):\n",
        "    for k in range(len(CAR_all_by_days_before[i])):\n",
        "      CAR_all_by_days_before[i][k].append(car_array_beforeall[i][j][k])\n",
        "\n",
        "#create new array to store CAR data on each day after RDQ\n",
        "\n",
        "CAR_all_by_days_after=[] #n days after RDQ\n",
        "\n",
        "#set up empty array:\n",
        "for i in range(11):\n",
        "  CAR_all_by_days_after.append([])\n",
        "  for j in range(61):\n",
        "    CAR_all_by_days_after[i].append([])\n",
        "\n",
        "#add CAR data\n",
        "for i in range(len(car_array_afterall)):\n",
        "  for j in range(len(car_array_afterall[i])):\n",
        "    for k in range(len(CAR_all_by_days_after[i])):\n",
        "      CAR_all_by_days_after[i][k].append(car_array_afterall[i][j][k])\n"
      ],
      "metadata": {
        "id": "XJEvk-aOEZgK"
      },
      "execution_count": null,
      "outputs": []
    },
    {
      "cell_type": "markdown",
      "source": [
        "# TAKE THE AVG OF EACH DAY TO GET AVG CAR"
      ],
      "metadata": {
        "id": "y8kC06DBrN8x"
      }
    },
    {
      "cell_type": "code",
      "source": [
        "##All firms: Generate dataframe with Average CAR for Each Day before RDQ\n",
        "\n",
        "#New dataframe to store data\n",
        "avg_CAR_all_before=pd.DataFrame()\n",
        "for i in range(1,11):\n",
        "  avg_CAR_all_before['decile_' + str(i)]=100* pd.DataFrame(CAR_all_by_days_before[i]).mean(axis=1)\n",
        "\n",
        "#Add column to store days relative to RDQ\n",
        "avg_CAR_all_before=avg_CAR_all_before.reset_index()\n",
        "avg_CAR_all_before=avg_CAR_all_before.rename(columns={'index': 'days_relative_to_rdq'})\n",
        "\n",
        "#make days relative to RDQ in range [-60, 0] since data is before RDQ\n",
        "\n",
        "avg_CAR_all_before['days_relative_to_rdq']=pd.to_numeric(avg_CAR_all_before['days_relative_to_rdq'], errors='coerce')\n",
        "avg_CAR_all_before['days_relative_to_rdq']-= 60\n",
        "\n",
        "print(avg_CAR_all_before)"
      ],
      "metadata": {
        "id": "HhxrDLKQrM-y"
      },
      "execution_count": null,
      "outputs": []
    },
    {
      "cell_type": "markdown",
      "source": [
        "# PLOT CAR BEFORE RDQ FOR ALL FIRMS"
      ],
      "metadata": {
        "id": "rs5jz0BEPTdj"
      }
    },
    {
      "cell_type": "code",
      "source": [
        "#PLOT GRAPH\n",
        "y=['decile_1','decile_2','decile_3','decile_4', 'decile_5', 'decile_6', 'decile_7','decile_8', 'decile_9', 'decile_10']\n",
        "all_firms_before_RDQ=avg_CAR_all_before.plot(x=\"days_relative_to_rdq\", y=y, kind=\"line\", figsize=[20,15], title=\"Figure 2a: CAR before RDQ for all firms\" )\n",
        "\n",
        "all_firms_before_RDQ.set_xlabel(\"Event time in trading days relative to earnings announcement day\")\n",
        "all_firms_before_RDQ.set_ylabel(\"Cumulative Abnormal Returns (%)\")\n",
        "\n",
        "#Save graph to google deive\n",
        "fig=all_firms_before_RDQ.get_figure()\n",
        "fig.savefig(filepath + \"all_firms_before_RDQ.png\")"
      ],
      "metadata": {
        "id": "7JAlqkFtPdhX"
      },
      "execution_count": null,
      "outputs": []
    },
    {
      "cell_type": "markdown",
      "source": [
        "# REPEAT FOR ALL FIRMS AFTER RDQ"
      ],
      "metadata": {
        "id": "YbV1WKxqRAo7"
      }
    },
    {
      "cell_type": "code",
      "source": [
        "##All firms: Generate dataframe with Average CAR for Each Day before RDQ\n",
        "\n",
        "#New dataframe to store data\n",
        "avg_CAR_all_after=pd.DataFrame()\n",
        "for i in range(1,11):\n",
        "  avg_CAR_all_after['decile_' + str(i)]=100* pd.DataFrame(CAR_all_by_days_after[i]).mean(axis=1)\n",
        "\n",
        "#Add column to store days relative to RDQ\n",
        "avg_CAR_all_after=avg_CAR_all_after.reset_index()\n",
        "avg_CAR_all_after=avg_CAR_all_after.rename(columns={'index': 'days_relative_to_rdq'})\n",
        "\n",
        "#make days relative to RDQ in range [-60, 0] since data is before RDQ\n",
        "\n",
        "avg_CAR_all_after['days_relative_to_rdq']=pd.to_numeric(avg_CAR_all_after['days_relative_to_rdq'], errors='coerce')\n",
        "avg_CAR_all_after['days_relative_to_rdq']-= 60\n",
        "\n",
        "print(avg_CAR_all_after)"
      ],
      "metadata": {
        "id": "bn1dOuxDRHPp"
      },
      "execution_count": null,
      "outputs": []
    },
    {
      "cell_type": "code",
      "source": [
        "#PLOT GRAPH\n",
        "y=['decile_1','decile_2','decile_3','decile_4', 'decile_5', 'decile_6', 'decile_7','decile_8', 'decile_9', 'decile_10']\n",
        "all_firms_after_RDQ=avg_CAR_all_after.plot(x=\"days_relative_to_rdq\", y=y, kind=\"line\", figsize=[20,15], title=\"Figure 2a: CAR after RDQ for all firms\" )\n",
        "\n",
        "all_firms_after_RDQ.set_xlabel(\"Event time in trading days relative to earnings announcement day\")\n",
        "all_firms_after_RDQ.set_ylabel(\"Cumulative Abnormal Returns (%)\")\n",
        "\n",
        "#Save graph to google deive\n",
        "fig=all_firms_after_RDQ.get_figure()\n",
        "fig.savefig(filepath + \"all_firms_after_RDQ.png\")"
      ],
      "metadata": {
        "id": "G3CBxd9VShI7"
      },
      "execution_count": null,
      "outputs": []
    },
    {
      "cell_type": "markdown",
      "source": [
        "# REPEAT PROCESS FOR SMALL AND BIG FIRMS"
      ],
      "metadata": {
        "id": "a148q_Q9VQwb"
      }
    },
    {
      "cell_type": "code",
      "source": [
        "main_df=cleaned_df\n",
        "\n",
        "main_df=main_df[main_df['size_decile'] >= 8]\n",
        "\n",
        "main_df=main_df.reset_index()\n",
        "main_df.drop('index', inplace=True, axis=1)"
      ],
      "metadata": {
        "id": "TsOwKiBpX-_R"
      },
      "execution_count": null,
      "outputs": []
    },
    {
      "cell_type": "code",
      "source": [
        "#gen new dataframe with tic, SUE decile and size decile on RDQ\n",
        "\n",
        "tic_of_rdq=main_df.dropna()\n",
        "tic_of_rdq=tic_of_rdq.filter(['tic', 'sue_decile', 'size_decile'])\n",
        "\n",
        "#Generate new groupby variable of abnormal return with tic and original index as indices\n",
        "\n",
        "abn_ret=main_df.reset_index()#generate new index to pop original one out as 'index'\n",
        "abn_ret.columns=['original_index', 'tic', 'date', 'datadate', 'year', 'qtr', 'ret', 'rdq', 'size_decile', 'avg_ret', 'abn_ret', 'sue', 'sue_decile']\n",
        "#rename index to original index\n",
        "\n",
        "abn_ret=abn_ret.groupby(['tic', 'original_index'], as_index=False)['abn_ret'].first() #group by tic and original_index and make them the new indices\n",
        "abn_ret['new_index']=abn_ret['tic'].apply(str) + \"/\" + abn_ret['original_index'].apply(str)\n",
        "abn_ret=abn_ret.set_index('new_index')\n",
        "\n",
        "#create new array to store CAR around RDQ\n",
        "\n",
        "car_array_beforeall=[]\n",
        "car_array_afterall=[]\n",
        "\n",
        "for i in range(11):\n",
        "  car_array_beforeall.append([])\n",
        "  car_array_afterall.append([])\n",
        "\n"
      ],
      "metadata": {
        "id": "3-kIzv-lXV0E"
      },
      "execution_count": null,
      "outputs": []
    },
    {
      "cell_type": "code",
      "source": [
        "n=60\n",
        "\n",
        "for rdqdate in tic_of_rdq.index:\n",
        "  #generate indiced for abnormal returns dataframe\n",
        "  ndaysbeforeindex=str(tic_of_rdq['tic'][rdqdate]) + \"/\" + str(rdqdate-n)\n",
        "  rdqdateindex=str(tic_of_rdq['tic'][rdqdate]) + \"/\" + str(rdqdate)\n",
        "  ndaysafterindex=str(tic_of_rdq['tic'][rdqdate]) + \"/\" + str(rdqdate + n)\n",
        "  if (ndaysbeforeindex in abn_ret.index) and (ndaysafterindex in abn_ret.index):\n",
        "    #add n days before CAR\n",
        "    beforeDF=pd.DataFrame(abn_ret.loc[ndaysbeforeindex : rdqdateindex]).reset_index()\n",
        "    beforeDF['car']=beforeDF['abn_ret'].cumsum()-beforeDF['abn_ret'][0] #calculate car (sum of all abn_ret -first abn_ret)\n",
        "    car_array_beforeall[tic_of_rdq['sue_decile'][rdqdate].astype(int)].append(beforeDF['car'])\n",
        "    #add n days after CAR\n",
        "    afterDF=pd.DataFrame(abn_ret.loc[rdqdateindex : ndaysafterindex]).reset_index()\n",
        "    afterDF['car']=afterDF['abn_ret'].cumsum()-afterDF['abn_ret'][0] #calculate car (sum of all abn_ret -first abn_ret)\n",
        "    car_array_afterall[tic_of_rdq['sue_decile'][rdqdate].astype(int)].append(afterDF['car'])"
      ],
      "metadata": {
        "id": "4rPhM9ftYeCZ"
      },
      "execution_count": null,
      "outputs": []
    },
    {
      "cell_type": "markdown",
      "source": [
        "# REPLICATE TABLE 1 FROM BERNARD (1989)"
      ],
      "metadata": {
        "id": "6rP4IKdoWTbb"
      }
    },
    {
      "cell_type": "markdown",
      "source": [
        "![Screenshot 2023-01-07 at 13.10.42.png](data:image/png;base64,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)"
      ],
      "metadata": {
        "id": "fA2vVSBxW0Db"
      }
    },
    {
      "cell_type": "code",
      "source": [
        "#For big firms\n",
        "\n",
        "main_df=cleaned_df\n",
        "\n",
        "main_df=main_df[main_df['size_decile'] >= 8]\n",
        "\n",
        "main_df=main_df.reset_index()\n",
        "main_df.drop('index', inplace=True, axis=1)\n",
        "\n",
        "\n",
        "\n",
        "#Create RDQ for big firms\n",
        "\n",
        "#gen new dataframe with tic, SUE decile and size decile on RDQ\n",
        "\n",
        "tic_of_rdq=main_df.dropna()\n",
        "tic_of_rdq=tic_of_rdq.filter(['tic', 'sue_decile', 'size_decile'])\n",
        "\n",
        "#Generate new groupby variable of abnormal return with tic and original index as indices\n",
        "\n",
        "abn_ret=main_df.reset_index()#generate new index to pop original one out as 'index'\n",
        "abn_ret.columns=['original_index', 'tic', 'date', 'datadate', 'year', 'qtr', 'ret', 'rdq', 'size_decile', 'avg_ret', 'abn_ret', 'sue', 'sue_decile']\n",
        "#rename index to original index\n",
        "\n",
        "abn_ret=abn_ret.groupby(['tic', 'original_index'], as_index=False)['abn_ret'].first() #group by tic and original_index and make them the new indices\n",
        "abn_ret['new_index']=abn_ret['tic'].apply(str) + \"/\" + abn_ret['original_index'].apply(str)\n",
        "abn_ret=abn_ret.set_index('new_index')\n",
        "\n",
        "tic_of_rdq_big=tic_of_rdq\n",
        "abn_ret_big=abn_ret"
      ],
      "metadata": {
        "id": "4oX-MDbNWysh"
      },
      "execution_count": null,
      "outputs": []
    },
    {
      "cell_type": "code",
      "source": [
        "#Generate CAR for 15 day periods\n",
        "\n",
        "period_length=15\n",
        "period_starts_to_analyse= [-59, -44, -29, -14, 1, 16, 31, 46, 61]\n",
        "\n",
        "#big firms--> High/Low SUE only\n",
        "tic_of_rdq_big_hl=tic_of_rdq_big[(tic_of_rdq_big['sue_decile']==1) | (tic_of_rdq_big['sue_decile']==10)]\n",
        "#filtering for only high/low SUE\n",
        "\n",
        "car_days_after_rdq_big=pd.DataFrame(index=period_starts_to_analyse, columns=[1,10])\n",
        "\n",
        "for i in car_days_after_rdq_big.index:\n",
        "  for j in car_days_after_rdq_big.columns:\n",
        "    car_days_after_rdq_big[j][i]=[]\n",
        "\n"
      ],
      "metadata": {
        "id": "0C7PCPIkaD1R"
      },
      "execution_count": null,
      "outputs": []
    },
    {
      "cell_type": "code",
      "source": [
        "car_days_after_rdq_big"
      ],
      "metadata": {
        "id": "xYS3i4O4dRU8"
      },
      "execution_count": null,
      "outputs": []
    },
    {
      "cell_type": "code",
      "source": [
        "tic_of_rdq_big_hl"
      ],
      "metadata": {
        "id": "GZ9FrFhbd8YJ"
      },
      "execution_count": null,
      "outputs": []
    },
    {
      "cell_type": "code",
      "source": [
        "#fill dataframes with arrays of CAR on the last day of the period\n",
        "\n",
        "for m in car_days_after_rdq_big.index:\n",
        "  for rdqdate in tic_of_rdq_big_hl.index:\n",
        "    mdays_after_rdq_start_index=str(tic_of_rdq_big_hl['tic'][rdqdate]) + \"/\" + str(rdqdate + m)\n",
        "    mdays_after_rdq_end_index=str(tic_of_rdq_big_hl['tic'][rdqdate]) + \"/\" + str(rdqdate + m + period_length -1)\n",
        "    if (mdays_after_rdq_start_index in abn_ret_big.index) and (mdays_after_rdq_end_index in abn_ret_big.index):\n",
        "      period_df=pd.DataFrame(abn_ret_big.loc[mdays_after_rdq_start_index : mdays_after_rdq_end_index ]).reset_index()\n",
        "      period_df['car']=period_df['abn_ret'].cumsum() #calculate car\n",
        "      car_days_after_rdq_big[tic_of_rdq_big_hl['sue_decile'][rdqdate]][m].append(period_df['car'][period_length-1])\n",
        "\n",
        "\n"
      ],
      "metadata": {
        "id": "YCQLWxhgde7O"
      },
      "execution_count": null,
      "outputs": []
    },
    {
      "cell_type": "code",
      "source": [
        "car_days_after_rdq_big"
      ],
      "metadata": {
        "id": "r3pmgN3WiTnk"
      },
      "execution_count": null,
      "outputs": []
    },
    {
      "cell_type": "code",
      "source": [
        "#take averages of each array to get CAR on final day\n",
        "\n",
        "for i in car_days_after_rdq_big.index:\n",
        "  for j in car_days_after_rdq_big.columns:\n",
        "    car_days_after_rdq_big[j][i]=np.average(car_days_after_rdq_big[j][i]) * 100\n"
      ],
      "metadata": {
        "id": "-80o35Pniaz9"
      },
      "execution_count": null,
      "outputs": []
    },
    {
      "cell_type": "code",
      "source": [
        "#repeat for medium firms\n",
        "\n",
        "#For medium firms\n",
        "\n",
        "main_df=cleaned_df\n",
        "\n",
        "main_df=main_df[(main_df['size_decile'] >= 5) & (main_df['size_decile'] <= 7)]\n",
        "\n",
        "main_df=main_df.reset_index()\n",
        "main_df.drop('index', inplace=True, axis=1)\n",
        "\n",
        "\n",
        "\n",
        "#Create RDQ for medium firms\n",
        "\n",
        "#gen new dataframe with tic, SUE decile and size decile on RDQ\n",
        "\n",
        "tic_of_rdq=main_df.dropna()\n",
        "tic_of_rdq=tic_of_rdq.filter(['tic', 'sue_decile', 'size_decile'])\n",
        "\n",
        "#Generate new groupby variable of abnormal return with tic and original index as indices\n",
        "\n",
        "abn_ret=main_df.reset_index()#generate new index to pop original one out as 'index'\n",
        "abn_ret.columns=['original_index', 'tic', 'date', 'datadate', 'year', 'qtr', 'ret', 'rdq', 'size_decile', 'avg_ret', 'abn_ret', 'sue', 'sue_decile']\n",
        "#rename index to original index\n",
        "\n",
        "abn_ret=abn_ret.groupby(['tic', 'original_index'], as_index=False)['abn_ret'].first() #group by tic and original_index and make them the new indices\n",
        "abn_ret['new_index']=abn_ret['tic'].apply(str) + \"/\" + abn_ret['original_index'].apply(str)\n",
        "abn_ret=abn_ret.set_index('new_index')\n",
        "\n",
        "tic_of_rdq_medium=tic_of_rdq\n",
        "abn_ret_medium=abn_ret\n",
        "\n",
        "\n",
        "#Generate CAR for 15 day periods\n",
        "\n",
        "period_length=15\n",
        "period_starts_to_analyse= [-59, -44, -29, -14, 1, 16, 31, 46, 61]\n",
        "\n",
        "#medium firms--> High/Low SUE only\n",
        "tic_of_rdq_medium_hl=tic_of_rdq_medium[(tic_of_rdq_medium['sue_decile']==1) | (tic_of_rdq_medium['sue_decile']==10)]\n",
        "#filtering for only high/low SUE\n",
        "\n",
        "car_days_after_rdq_medium=pd.DataFrame(index=period_starts_to_analyse, columns=[1,10])\n",
        "\n",
        "for i in car_days_after_rdq_medium.index:\n",
        "  for j in car_days_after_rdq_medium.columns:\n",
        "    car_days_after_rdq_medium[j][i]=[]\n",
        "\n",
        "\n",
        "\n",
        "#fill dataframes with arrays of CAR on the last day of the period\n",
        "\n",
        "for m in car_days_after_rdq_medium.index:\n",
        "  for rdqdate in tic_of_rdq_medium_hl.index:\n",
        "    mdays_after_rdq_start_index=str(tic_of_rdq_medium_hl['tic'][rdqdate]) + \"/\" + str(rdqdate + m)\n",
        "    mdays_after_rdq_end_index=str(tic_of_rdq_medium_hl['tic'][rdqdate]) + \"/\" + str(rdqdate + m + period_length -1)\n",
        "    if (mdays_after_rdq_start_index in abn_ret_medium.index) and (mdays_after_rdq_end_index in abn_ret_medium.index):\n",
        "      period_df=pd.DataFrame(abn_ret_medium.loc[mdays_after_rdq_start_index : mdays_after_rdq_end_index ]).reset_index()\n",
        "      period_df['car']=period_df['abn_ret'].cumsum() #calculate car\n",
        "      car_days_after_rdq_medium[tic_of_rdq_medium_hl['sue_decile'][rdqdate]][m].append(period_df['car'][period_length-1])\n",
        "\n",
        "\n",
        "#take averages of each array to get CAR on final day\n",
        "\n",
        "for i in car_days_after_rdq_medium.index:\n",
        "  for j in car_days_after_rdq_medium.columns:\n",
        "    car_days_after_rdq_medium[j][i]=np.average(car_days_after_rdq_medium[j][i]) * 100"
      ],
      "metadata": {
        "id": "8WxX4tC4i3iq"
      },
      "execution_count": null,
      "outputs": []
    },
    {
      "cell_type": "code",
      "source": [
        "'''\n",
        "#Generate CAR for 15 day periods\n",
        "\n",
        "period_length=15\n",
        "period_starts_to_analyse= [-59, -44, -29, -14, 1, 16, 31, 46, 61]\n",
        "\n",
        "#small firms--> High/Low SUE only\n",
        "tic_of_rdq_small_hl=tic_of_rdq_small[(tic_of_rdq_small['sue_decile']==1) | (tic_of_rdq_small['sue_decile']==10)]\n",
        "#filtering for only high/low SUE\n",
        "\n",
        "car_days_after_rdq_small=pd.DataFrame(index=period_starts_to_analyse, columns=[1,10])\n",
        "\n",
        "for i in car_days_after_rdq_small.index:\n",
        "  for j in car_days_after_rdq_small.columns:\n",
        "    car_days_after_rdq_small[j][i]=[]\n",
        "\n",
        "\n",
        "\n",
        "#fill dataframes with arrays of CAR on the last day of the period\n",
        "\n",
        "for m in car_days_after_rdq_small.index:\n",
        "  for rdqdate in tic_of_rdq_small_hl.index:\n",
        "    mdays_after_rdq_start_index=str(tic_of_rdq_small_hl['tic'][rdqdate]) + \"/\" + str(rdqdate + m)\n",
        "    mdays_after_rdq_end_index=str(tic_of_rdq_small_hl['tic'][rdqdate]) + \"/\" + str(rdqdate + m + period_length -1)\n",
        "    if (mdays_after_rdq_start_index in abn_ret_small.index) and (mdays_after_rdq_end_index in abn_ret_small.index):\n",
        "      period_df=pd.DataFrame(abn_ret_small.loc[mdays_after_rdq_start_index : mdays_after_rdq_end_index ]).reset_index()\n",
        "      period_df['car']=period_df['abn_ret'].cumsum()-period_df['abn_ret'][0] #calculate car\n",
        "      car_days_after_rdq_small[tic_of_rdq_small_hl['sue_decile'][rdqdate]][m].append(period_df['car'][period_length-1])\n",
        "\n",
        "\n",
        "#take averages of each array to get CAR on final day\n",
        "\n",
        "for i in car_days_after_rdq_small.index:\n",
        "  for j in car_days_after_rdq_small.columns:\n",
        "    car_days_after_rdq_small[j][i]=np.average(car_days_after_rdq_small[j][i]) * 100\n",
        "  '''"
      ],
      "metadata": {
        "id": "qt_sSgklj8oF"
      },
      "execution_count": null,
      "outputs": []
    },
    {
      "cell_type": "code",
      "source": [
        "#For small firms\n",
        "\n",
        "main_df=cleaned_df\n",
        "\n",
        "main_df=main_df[(main_df['size_decile'] <= 4)]\n",
        "\n",
        "main_df=main_df.reset_index()\n",
        "main_df.drop('index', inplace=True, axis=1)\n",
        "\n",
        "\n",
        "\n",
        "#Create RDQ for small firms\n",
        "\n",
        "#gen new dataframe with tic, SUE decile and size decile on RDQ\n",
        "\n",
        "tic_of_rdq=main_df.dropna()\n",
        "tic_of_rdq=tic_of_rdq.filter(['tic', 'sue_decile', 'size_decile'])\n",
        "\n",
        "#Generate new groupby variable of abnormal return with tic and original index as indices\n",
        "\n",
        "abn_ret=main_df.reset_index()#generate new index to pop original one out as 'index'\n",
        "abn_ret.columns=['original_index', 'tic', 'date', 'datadate', 'year', 'qtr', 'ret', 'rdq', 'size_decile', 'avg_ret', 'abn_ret', 'sue', 'sue_decile']\n",
        "#rename index to original index\n",
        "\n",
        "abn_ret=abn_ret.groupby(['tic', 'original_index'], as_index=False)['abn_ret'].first() #group by tic and original_index and make them the new indices\n",
        "abn_ret['new_index']=abn_ret['tic'].apply(str) + \"/\" + abn_ret['original_index'].apply(str)\n",
        "abn_ret=abn_ret.set_index('new_index')\n",
        "\n",
        "tic_of_rdq_small=tic_of_rdq\n",
        "abn_ret_small=abn_ret\n",
        "\n",
        "\n",
        "#Generate CAR for 15 day periods\n",
        "\n",
        "period_length=15\n",
        "period_starts_to_analyse= [-59, -44, -29, -14, 1, 16, 31, 46, 61]\n",
        "\n",
        "#small firms--> High/Low SUE only\n",
        "tic_of_rdq_small_hl=tic_of_rdq_small[(tic_of_rdq_small['sue_decile']==1) | (tic_of_rdq_small['sue_decile']==10)]\n",
        "#filtering for only high/low SUE\n",
        "\n",
        "car_days_after_rdq_small=pd.DataFrame(index=period_starts_to_analyse, columns=[1,10])\n",
        "\n",
        "for i in car_days_after_rdq_small.index:\n",
        "  for j in car_days_after_rdq_small.columns:\n",
        "    car_days_after_rdq_small[j][i]=[]\n",
        "\n",
        "\n",
        "\n",
        "#fill dataframes with arrays of CAR on the last day of the period\n",
        "\n",
        "for m in car_days_after_rdq_small.index:\n",
        "  for rdqdate in tic_of_rdq_small_hl.index:\n",
        "    mdays_after_rdq_start_index=str(tic_of_rdq_small_hl['tic'][rdqdate]) + \"/\" + str(rdqdate + m)\n",
        "    mdays_after_rdq_end_index=str(tic_of_rdq_small_hl['tic'][rdqdate]) + \"/\" + str(rdqdate + m + period_length -1)\n",
        "    if (mdays_after_rdq_start_index in abn_ret_small.index) and (mdays_after_rdq_end_index in abn_ret_small.index):\n",
        "      period_df=pd.DataFrame(abn_ret_small.loc[mdays_after_rdq_start_index : mdays_after_rdq_end_index ]).reset_index()\n",
        "      period_df['car']=period_df['abn_ret'].cumsum() #calculate car\n",
        "      car_days_after_rdq_small[tic_of_rdq_small_hl['sue_decile'][rdqdate]][m].append(period_df['car'][period_length-1])\n",
        "\n",
        "\n",
        "#take averages of each array to get CAR on final day\n",
        "\n",
        "for i in car_days_after_rdq_small.index:\n",
        "  for j in car_days_after_rdq_small.columns:\n",
        "    car_days_after_rdq_small[j][i]=np.average(car_days_after_rdq_small[j][i]) * 100"
      ],
      "metadata": {
        "id": "ItHrMHuTkENq"
      },
      "execution_count": null,
      "outputs": []
    },
    {
      "cell_type": "code",
      "source": [
        "print(car_days_after_rdq_small)"
      ],
      "metadata": {
        "id": "nEpG5LRFKyMu"
      },
      "execution_count": null,
      "outputs": []
    },
    {
      "cell_type": "markdown",
      "source": [
        "# GENERATE TABLE 1"
      ],
      "metadata": {
        "id": "sYX7ZnUAWzU0"
      }
    },
    {
      "cell_type": "code",
      "source": [
        "table1a=pd.DataFrame(index=range(0))\n",
        "\n",
        "table1a[\"holding_period\"]=[\"-59 to -45\", \"-44 to 30\", \"-29 to 15\", \"-14 to 0\", \"1 to 15\", \"16 to 30\", \"31 to 45\", \"40 to 60\", \"60 to 75\"]\n",
        "\n",
        "for i in [\"s\", \"m\", \"h\"]:\n",
        "  for j in [\"h\", \"l\", \"diff\"]:\n",
        "    table1a[(i + \"/\" + j)]=\"\"\n",
        "\n",
        "\n",
        "#small/high sue firms\n",
        "\n",
        "for i in range (0, 9):\n",
        "  table1a[\"s/h\"][i]=car_days_after_rdq_small[10][(i-4)*15+1]\n",
        "\n",
        "#small/low sue firms\n",
        "\n",
        "for i in range(0,9):\n",
        "  table1a[\"s/l\"][i]=car_days_after_rdq_small[1][(i-4)*15+1]\n",
        "\n",
        "#small/diff\n",
        "table1a[\"s/diff\"]=table1a['s/h']-table1a['s/l']\n",
        "\n",
        "#medium/high SUE firms \n",
        "\n",
        "for i in range (0, 9):\n",
        "  table1a[\"m/h\"][i]=car_days_after_rdq_medium[10][(i-4)*15+1]\n",
        "\n",
        "#medium/low SUE firms\n",
        "for i in range (0, 9):\n",
        "  table1a[\"m/l\"][i]=car_days_after_rdq_medium[1][(i-4)*15+1]\n",
        "\n",
        "#medium/diff\n",
        "\n",
        "table1a['m/diff']=table1a['m/h']-table1a['m/l']\n",
        "\n",
        "#big/high sue firms\n",
        "for i in range (0,9):\n",
        "  table1a[\"h/h\"][i]=car_days_after_rdq_big[10][(i-4)*15+1]\n",
        "\n",
        "#big/low sue firms\n",
        "for i in range (0,9):\n",
        "  table1a[\"h/l\"][i]=car_days_after_rdq_big[1][(i-4)*15+1]\n",
        "\n",
        "\n",
        "#big/diff\n",
        "table1a[\"h/diff\"]=table1a['h/h']-table1a['h/l']\n"
      ],
      "metadata": {
        "id": "YU-u3Q6HoOCR"
      },
      "execution_count": null,
      "outputs": []
    },
    {
      "cell_type": "code",
      "source": [
        "table1a"
      ],
      "metadata": {
        "id": "qYHZs0xvLS8N"
      },
      "execution_count": null,
      "outputs": []
    },
    {
      "cell_type": "code",
      "source": [
        "table1b=pd.DataFrame(index=range(5))\n",
        "\n",
        "table1b['holding_period']=[\"1 to 15\", \"1 to 30\", \"1 to 45\", \"1 to 60\", \"1 to 75\"]\n",
        "\n",
        "for i in [\"s\", \"m\", \"h\"]:\n",
        "  table1b[i + \"/diff\"]=\"\"\n",
        "  table1b[i + \"/diff_as_fraction_of_75d_drift\"]=\"\"\n",
        "\n",
        "for i in ['s/diff', 'm/diff', 'h/diff']:\n",
        "  table1b[i][0]=table1a[i][4]\n",
        "  table1b[i][1]=table1b[i][0] + table1a[i][5]\n",
        "  table1b[i][2]=table1b[i][1] + table1a[i][6]\n",
        "  table1b[i][3]=table1b[i][2] + table1a[i][7]\n",
        "  table1b[i][4]=table1b[i][3] + table1a[i][8]\n",
        "\n",
        "\n",
        "table1b['s/diff_as_fraction_of_75d_drift']=table1b['s/diff']/table1b['s/diff'][4]\n",
        "table1b['m/diff_as_fraction_of_75d_drift']=table1b['m/diff']/table1b['m/diff'][4]\n",
        "table1b['b/diff_as_fraction_of_75d_drift']=table1b['h/diff']/table1b['h/diff'][4]\n",
        "\n",
        "print(table1b)\n"
      ],
      "metadata": {
        "id": "7cMjxML0FtTz"
      },
      "execution_count": null,
      "outputs": []
    },
    {
      "cell_type": "markdown",
      "source": [
        "# REPLICATE TABLE 3 FROM BERNARD(1989)\n",
        "![image.png](data:image/png;base64,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)"
      ],
      "metadata": {
        "id": "Pz3ELi9DHzEk"
      }
    },
    {
      "cell_type": "code",
      "source": [
        "#Extreme good news and bad news firms: generate 30-day Cumulative Abnormal returns with different method including date of data for table 3\n",
        "\n",
        "main_df=cleaned_df\n",
        "main_df_h_l=main_df[(main_df['sue_decile']==1)| (main_df['sue_decile']==10)]\n",
        "\n",
        "#generate new dataframe with tic, SUE decile, and size decile on RDQ\n",
        "tic_of_rdq_h_l=main_df_h_l.dropna()\n",
        "tic_of_rdq_h_l=tic_of_rdq_h_l.filter(['tic', 'sue_decile', 'size_decile'])\n",
        "\n",
        "#create new groupby variable of abnormal return with tic and original_index as indices\n",
        "abn_ret_h_l=main_df_h_l.reset_index() #gen new index to pop out original one as 'index'\n",
        "#rename 'index' to 'original_index' \n",
        "abn_ret_h_l.columns=['original_index', 'tic', 'date', 'datadate', 'year', 'qtr', 'ret', 'rdq', 'size_decile', 'avg_ret', 'abn_ret', 'sue', 'sue_decile']\n",
        "abn_ret_h_l=abn_ret_h_l.groupby(['tic', 'original_index'], as_index=False)['abn_ret'].first()\n",
        "abn_ret_h_l['new_index']=abn_ret_h_l['tic'].apply(str) + \"/\" + abn_ret_h_l['original_index'].apply(str)\n",
        "abn_ret_h_l=abn_ret_h_l.set_index('new_index')\n",
        "\n",
        "#create new df to store CAR around RDQ\n",
        "car_30d_h_l=main_df.filter(['tic','date', 'sue_decile'])\n",
        "car_30d_h_l['days_after_rdq']=\"\"\n",
        "car_30d_h_l['car']=\"\"\n",
        "\n",
        "\n",
        "car_60d_h_l=main_df.filter(['tic','date', 'sue_decile'])\n",
        "car_60d_h_l['days_after_rdq']=\"\"\n",
        "car_60d_h_l['car']=\"\"\n"
      ],
      "metadata": {
        "id": "EEEX5KJCIHCR"
      },
      "execution_count": null,
      "outputs": []
    },
    {
      "cell_type": "code",
      "source": [
        "car_30d_h_l.index"
      ],
      "metadata": {
        "id": "5trPk98NUyYK"
      },
      "execution_count": null,
      "outputs": []
    },
    {
      "cell_type": "code",
      "source": [
        "#calculate car and store in corresponding SUE deciles\n",
        "\n",
        "n=30\n",
        "for rdqdate in tic_of_rdq_h_l.index:\n",
        "  rdqdateindex=str(tic_of_rdq_h_l['tic'][rdqdate]) + \"/\" + str(rdqdate)\n",
        "  ndaysafterindex=str(tic_of_rdq_h_l['tic'][rdqdate]) + \"/\" + str(rdqdate + n)\n",
        "  if ndaysafterindex in abn_ret_h_l.index: \n",
        "    after_df=pd.DataFrame(abn_ret.loc[rdqdateindex : ndaysafterindex]).reset_index()\n",
        "    after_df['car']=after_df['abn_ret'].cumsum() - after_df['abn_ret'][0]\n",
        "    car_30d_h_l['days_after_rdq'][rdqdate: rdqdate + n + 1]=after_df.index\n",
        "    car_30d_h_l['car'][rdqdate : rdqdate + n + 1]=after_df['car']\n",
        "    #car_30d_h_l.iloc[rdqdate : rdqdate + n + 1, car_30d_h_l.columns.get_loc('days_after_rdq')] = after_df.index\n",
        "    #car_30d_h_l.iloc[rdqdate : rdqdate + n + 1, car_30d_h_l.columns.get_loc('car')] = after_df['car']\n"
      ],
      "metadata": {
        "id": "i6YCu13yL0eP"
      },
      "execution_count": null,
      "outputs": []
    },
    {
      "cell_type": "code",
      "source": [
        "n=60\n",
        "for rdqdate in tic_of_rdq_h_l.index:\n",
        "  rdqdateindex=str(tic_of_rdq_h_l['tic'][rdqdate]) + \"/\" + str(rdqdate)\n",
        "  ndaysafterindex=str(tic_of_rdq_h_l['tic'][rdqdate]) + \"/\" + str(rdqdate + n)\n",
        "  if ndaysafterindex in abn_ret_h_l.index: \n",
        "    after_df=pd.DataFrame(abn_ret.loc[rdqdateindex : ndaysafterindex]).reset_index()\n",
        "    after_df['car']=after_df['abn_ret'].cumsum() - after_df['abn_ret'][0]\n",
        "    #car_30d_h_l['days_after_rdq'][rdqdate: rdqdate + n + 1]=after_df.index\n",
        "    #car_30d_h_l['car'][rdqdate : rdqdate + n + 1]=after_df['car']\n",
        "    car_60d_h_l.iloc[rdqdate : rdqdate + n + 1, car_60d_h_l.columns.get_loc('days_after_rdq')] = after_df.index\n",
        "    car_60d_h_l.iloc[rdqdate : rdqdate + n + 1, car_60d_h_l.columns.get_loc('car')] = after_df['car']\n"
      ],
      "metadata": {
        "id": "g1Z8cSOzi-h9"
      },
      "execution_count": null,
      "outputs": []
    },
    {
      "cell_type": "code",
      "source": [
        "car_30d_h_l['car'] *= 100\n",
        "car_30d_h_l=car_30d_h_l[car_30d_h_l['days_after_rdq']==30]\n",
        "\n",
        "car_60d_h_l['car'] *= 100\n",
        "car_60d_h_l=car_60d_h_l[car_60d_h_l['days_after_rdq']==60]\n",
        "\n",
        "print(car_30d_h_l)\n",
        "print(car_60d_h_l)\n"
      ],
      "metadata": {
        "id": "KvxHPI0PjElZ"
      },
      "execution_count": null,
      "outputs": []
    },
    {
      "cell_type": "code",
      "source": [
        "#replicate table 3 with 30d data\n",
        "\n",
        "#import f-f-5 data\n",
        "file=filepath + \"F-F_Research_Data_5_Factors_2x3_daily.CSV\"\n",
        "\n",
        "ff_df=pd.read_csv(file, error_bad_lines=False)\n",
        "\n",
        "print(ff_df)\n"
      ],
      "metadata": {
        "id": "-4JbW9g6nKSi"
      },
      "execution_count": null,
      "outputs": []
    },
    {
      "cell_type": "code",
      "source": [
        "print(ff_df.columns)"
      ],
      "metadata": {
        "id": "fPuipLwRnuRj"
      },
      "execution_count": null,
      "outputs": []
    },
    {
      "cell_type": "code",
      "source": [
        "ff_df['Date']=pd.to_datetime(ff_df['Date'], format='%Y%m%d')\n",
        "x=['MKT_RF', 'SMB', 'HML', 'RMW', 'CMA', 'RF']\n",
        "\n",
        "for x in x:\n",
        "  ff_df[x]=pd.to_numeric(ff_df[x], errors='coerce')\n",
        "\n",
        "#ad mkt column(not adjusted for treasury bills)\n",
        "\n",
        "#rename columns\n",
        "ff_df.columns=['date', 'rm_minus_rf', 'smb', 'hml', 'rmw', 'cma', 'rf', 'mkt']\n",
        "\n",
        "#filter for after 2019\n",
        "ff_df=ff_df[ff_df['date'] >= \"2019-01-01\"]\n",
        "\n",
        "#left join ff into 30daytable\n",
        "\n",
        "ff_df.to_sql(\"ff_df\", conn, if_exists='replace')\n",
        "\n",
        "car_30d_h_l.to_sql(\"car_30d_h_l\", conn, if_exists='replace')\n",
        "\n",
        "query=''' \n",
        "        SELECT DISTINCT car_30d_h_l.*, ff_df.smb, ff_df.hml, ff_df.raw, ff_df.cma, ff_df.rf, ff_df.mkt\n",
        "        FROM car_30d_h_l\n",
        "        LEFT JOIN ff_df\n",
        "        ON car_30d_h_l.date=ff_df.date\n",
        "        '''\n",
        "\n",
        "car_30d_h_l_ff=pd.read_sql(query, conn)\n",
        "\n"
      ],
      "metadata": {
        "id": "g4Hu6i8DnhmD"
      },
      "execution_count": null,
      "outputs": []
    },
    {
      "cell_type": "markdown",
      "source": [
        "# REPLICATE FIGURE 5 WITH 60D DATA"
      ],
      "metadata": {
        "id": "OtkDTvtqsFqr"
      }
    },
    {
      "cell_type": "code",
      "source": [
        "#replicate figure 5\n",
        "\n",
        "car_60d_h_l['year']=car_60d_h_l['date'].dt.year\n",
        "car_60d_h_l['qtr']=np.ceil(car_60d_h_l['date'].dt.month/3)\n",
        "car_60d_h_l['year/qtr']=car_60d_h_l['year'].apply(str) + \"/\" + car_60d_h_l['qtr'].apply(str)\n",
        "\n",
        "car_60d_h_l=car_60d_h_l[car_60d_h_l['days_after_rdq']==60]\n",
        "car_60d_gr=car_60d_h_l.groupby('year/qtr', as_index=False)['car'].mean()\n",
        "\n",
        "plot_car_60d=car_60d_gr.plot(x='year/qtr', y=['car'], kind='bar', figsize=[15,10], title=\"Figure 5: CAR vs year/qtr of data\")\n",
        "\n",
        "fig=plot_car_60d.get_figure()"
      ],
      "metadata": {
        "id": "LjRgzncDsOea"
      },
      "execution_count": null,
      "outputs": []
    },
    {
      "cell_type": "code",
      "source": [
        "break"
      ],
      "metadata": {
        "id": "IgcWdUPSdT3y"
      },
      "execution_count": null,
      "outputs": []
    },
    {
      "cell_type": "markdown",
      "source": [
        "# Replicate Table 4"
      ],
      "metadata": {
        "id": "4h-mhfD_uW1S"
      }
    },
    {
      "cell_type": "code",
      "source": [
        "#Generate dataframes for each portfolio, for raw returns instead of CAR\n",
        "\n",
        "main_df=cleaned_df\n",
        "\n",
        "main_df_lo=main_df[main_df['sue_decile']==1]\n",
        "\n",
        "main_df_lo_small=main_df_lo[main_df_lo['size_decile'] <= 4]\n",
        "main_df_lo_med=main_df_lo[(main_df_lo['size_decile'] >= 5) & (main_df_lo['size_decile'] <= 7)]\n",
        "main_df_lo_big=main_df_lo[main_df_lo['size_decile'] >= 8]\n",
        "\n",
        "main_df_hi=main_df[main_df['sue_decile']==10]\n",
        "main_df_hi_small=main_df_hi[main_df_hi['size_decile'] <= 4]\n",
        "main_df_hi_med=main_df_hi[(main_df_hi['size_decile'] >= 5) & (main_df_hi['size_decile'] <= 7)]\n",
        "main_df_hi_big=main_df_hi[main_df_hi['size_decile'] >= 8]\n",
        "\n"
      ],
      "metadata": {
        "id": "i8LKYFHhuH35"
      },
      "execution_count": null,
      "outputs": []
    },
    {
      "cell_type": "code",
      "source": [
        "print(main_df_lo)"
      ],
      "metadata": {
        "id": "g4S940AU9rCU"
      },
      "execution_count": null,
      "outputs": []
    },
    {
      "cell_type": "code",
      "source": [
        "#S/L\n",
        "tic_of_rdq_lo_small=main_df_lo_small.dropna()\n",
        "tic_of_rdq_lo_small=tic_of_rdq_lo_small.filter(['tic', 'sue_decile', 'size_decile'])\n",
        "\n",
        "raw_ret_lo_small=main_df.reset_index()\n",
        "raw_ret_lo_small.columns=['original_index', 'tic', 'date', 'datadate', 'year', 'qtr', 'ret', 'rdq', 'size_decile', 'avg_ret', 'abn_ret', 'sue', 'sue_decile']\n",
        "raw_ret_lo_small=raw_ret_lo_small.groupby(['tic', 'original_index'], as_index=False)['ret'].first()\n",
        "raw_ret_lo_small['new_index']=raw_ret_lo_small['tic'].apply(str) + \"/\" + raw_ret_lo_small['original_index'].apply(str)\n",
        "raw_ret_lo_small=raw_ret_lo_small.set_index('new_index')\n",
        "\n"
      ],
      "metadata": {
        "id": "xwF0lHd_wYia"
      },
      "execution_count": null,
      "outputs": []
    },
    {
      "cell_type": "code",
      "source": [
        "#m/l\n",
        "tic_of_rdq_lo_med=main_df_lo_med.dropna()\n",
        "tic_of_rdq_lo_med=tic_of_rdq_lo_med.filter(['tic', 'sue_decile', 'size_decile'])\n",
        "\n",
        "raw_ret_lo_med=main_df.reset_index()\n",
        "raw_ret_lo_med.columns=['original_index', 'tic', 'date', 'datadate', 'year', 'qtr', 'ret', 'rdq', 'size_decile', 'avg_ret', 'abn_ret', 'sue', 'sue_decile']\n",
        "raw_ret_lo_med=raw_ret_lo_med.groupby(['tic', 'original_index'], as_index=False)['ret'].first()\n",
        "raw_ret_lo_med['new_index']=raw_ret_lo_med['tic'].apply(str) + \"/\" + raw_ret_lo_med['original_index'].apply(str)\n",
        "raw_ret_lo_med=raw_ret_lo_med.set_index('new_index')\n"
      ],
      "metadata": {
        "id": "j1auTx8jxtSg"
      },
      "execution_count": null,
      "outputs": []
    },
    {
      "cell_type": "code",
      "source": [
        "#b/l\n",
        "tic_of_rdq_lo_big=main_df_lo_big.dropna()\n",
        "tic_of_rdq_lo_big=tic_of_rdq_lo_big.filter(['tic', 'sue_decile', 'size_decile'])\n",
        "\n",
        "raw_ret_lo_big=main_df.reset_index()\n",
        "raw_ret_lo_big.columns=['original_index', 'tic', 'date', 'datadate', 'year', 'qtr', 'ret', 'rdq', 'size_decile', 'avg_ret', 'abn_ret', 'sue', 'sue_decile']\n",
        "raw_ret_lo_big=raw_ret_lo_big.groupby(['tic', 'original_index'], as_index=False)['ret'].first()\n",
        "raw_ret_lo_big['new_index']=raw_ret_lo_big['tic'].apply(str) + \"/\" + raw_ret_lo_big['original_index'].apply(str)\n",
        "raw_ret_lo_big=raw_ret_lo_big.set_index('new_index')\n"
      ],
      "metadata": {
        "id": "oFAxpQVtx8DZ"
      },
      "execution_count": null,
      "outputs": []
    },
    {
      "cell_type": "code",
      "source": [
        "#s/h\n",
        "tic_of_rdq_hi_small=main_df_hi_small.dropna()\n",
        "tic_of_rdq_hi_small=tic_of_rdq_hi_small.filter(['tic', 'sue_decile', 'size_decile'])\n",
        "\n",
        "raw_ret_hi_small=main_df.reset_index()\n",
        "raw_ret_hi_small.columns=['original_index', 'tic', 'date', 'datadate', 'year', 'qtr', 'ret', 'rdq', 'size_decile', 'avg_ret', 'abn_ret', 'sue', 'sue_decile']\n",
        "raw_ret_hi_small=raw_ret_hi_small.groupby(['tic', 'original_index'], as_index=False)['ret'].first()\n",
        "raw_ret_hi_small['new_index']=raw_ret_hi_small['tic'].apply(str) + \"/\" + raw_ret_hi_small['original_index'].apply(str)\n",
        "raw_ret_hi_small=raw_ret_hi_small.set_index('new_index')\n",
        "\n",
        "\n"
      ],
      "metadata": {
        "id": "sd0ks-RUyLSv"
      },
      "execution_count": null,
      "outputs": []
    },
    {
      "cell_type": "code",
      "source": [
        "#m/h \n",
        "\n",
        "tic_of_rdq_hi_med=main_df_hi_med.dropna()\n",
        "tic_of_rdq_hi_med=tic_of_rdq_hi_med.filter(['tic', 'sue_decile', 'size_decile'])\n",
        "\n",
        "raw_ret_hi_med=main_df.reset_index()\n",
        "raw_ret_hi_med.columns=['original_index', 'tic', 'date', 'datadate', 'year', 'qtr', 'ret', 'rdq', 'size_decile', 'avg_ret', 'abn_ret', 'sue', 'sue_decile']\n",
        "raw_ret_hi_med=raw_ret_hi_med.groupby(['tic', 'original_index'], as_index=False)['ret'].first()\n",
        "raw_ret_hi_med['new_index']=raw_ret_hi_med['tic'].apply(str) + \"/\" + raw_ret_hi_med['original_index'].apply(str)\n",
        "raw_ret_hi_med=raw_ret_hi_med.set_index('new_index')\n"
      ],
      "metadata": {
        "id": "xBX_XJdIyU4F"
      },
      "execution_count": null,
      "outputs": []
    },
    {
      "cell_type": "code",
      "source": [
        "#b/h\n",
        "tic_of_rdq_hi_big=main_df_hi_big.dropna()\n",
        "tic_of_rdq_hi_big=tic_of_rdq_hi_big.filter(['tic', 'sue_decile', 'size_decile'])\n",
        "\n",
        "raw_ret_hi_big=main_df.reset_index()\n",
        "raw_ret_hi_big.columns=['original_index', 'tic', 'date', 'datadate', 'year', 'qtr', 'ret', 'rdq', 'size_decile', 'avg_ret', 'abn_ret', 'sue', 'sue_decile']\n",
        "raw_ret_hi_big=raw_ret_hi_big.groupby(['tic', 'original_index'], as_index=False)['ret'].first()\n",
        "raw_ret_hi_big['new_index']=raw_ret_hi_big['tic'].apply(str) + \"/\" + raw_ret_hi_big['original_index'].apply(str)\n",
        "raw_ret_hi_big=raw_ret_hi_big.set_index('new_index')\n",
        "\n"
      ],
      "metadata": {
        "id": "V1DFYKLZynGj"
      },
      "execution_count": null,
      "outputs": []
    },
    {
      "cell_type": "markdown",
      "source": [
        "**S/L**"
      ],
      "metadata": {
        "id": "_P6l7M_jmYeh"
      }
    },
    {
      "cell_type": "code",
      "source": [
        "#calculate raw returns (repeat for each segment)\n",
        " \n",
        "\n",
        "\n",
        "startingdays=[1, 6, 21, 41, 61]\n",
        "endingdays=[5, 20, 40, 60, 80]\n",
        "\n",
        "avg_crr_lo_small=pd.DataFrame(index=startingdays, columns=['crr'])\n",
        "for i in avg_crr_lo_small.index:\n",
        "  for j in avg_crr_lo_small.columns:\n",
        "    avg_crr_lo_small[j][i]=[]\n",
        "\n",
        "print(avg_crr_lo_small)\n",
        "#fill new df with cumulative raw return (CRR) data\n",
        "\n",
        "for i in range(len(startingdays)):\n",
        "  a=startingdays[i]\n",
        "  b=endingdays[i]\n",
        "  for rdqdate in tic_of_rdq_lo_small.index:\n",
        "    startindex=str(tic_of_rdq_lo_small[\"tic\"][rdqdate]) + \"/\" + str(rdqdate + a)\n",
        "    endindex=str(tic_of_rdq_lo_small[\"tic\"][rdqdate]) + \"/\" + str(rdqdate + b)\n",
        "    if (startindex in raw_ret_lo_small.index) and (endindex in raw_ret_lo_small.index):\n",
        "      period_df=pd.DataFrame(raw_ret_lo_small.loc[startindex : endindex]).reset_index()\n",
        "      period_df['crr']=period_df['ret'].cumsum()\n",
        "      avg_crr_lo_small['crr'][a].append(period_df['crr'][b-a])\n",
        "\n",
        "for i in avg_crr_lo_small.index: \n",
        "  avg_crr_lo_small['crr'][i]=np.average(avg_crr_lo_small['crr'][i])*100\n",
        "print(avg_crr_lo_small)"
      ],
      "metadata": {
        "id": "rwuDqojX0j2T"
      },
      "execution_count": null,
      "outputs": []
    },
    {
      "cell_type": "markdown",
      "source": [
        "**M/L**"
      ],
      "metadata": {
        "id": "Vwe74YIomf_A"
      }
    },
    {
      "cell_type": "code",
      "source": [
        "#calculate raw returns-lo_med\n",
        " \n",
        "startingdays=[1, 6, 21, 41, 61]\n",
        "endingdays=[5, 20, 40, 60, 80]\n",
        "\n",
        "avg_crr_lo_med=pd.DataFrame(index=startingdays, columns=['crr'])\n",
        "for i in avg_crr_lo_med.index:\n",
        "  for j in avg_crr_lo_med.columns:\n",
        "    avg_crr_lo_med[j][i]=[]\n",
        "\n",
        "print(avg_crr_lo_med)\n",
        "#fill new df with cumulative raw return (CRR) data\n",
        "\n",
        "for i in range(len(startingdays)):\n",
        "  a=startingdays[i]\n",
        "  b=endingdays[i]\n",
        "  for rdqdate in tic_of_rdq_lo_med.index:\n",
        "    startindex=str(tic_of_rdq_lo_med[\"tic\"][rdqdate]) + \"/\" + str(rdqdate + a)\n",
        "    endindex=str(tic_of_rdq_lo_med[\"tic\"][rdqdate]) + \"/\" + str(rdqdate + b)\n",
        "    if (startindex in raw_ret_lo_med.index) and (endindex in raw_ret_lo_med.index):\n",
        "      period_df=pd.DataFrame(raw_ret_lo_med.loc[startindex : endindex]).reset_index()\n",
        "      period_df['crr']=period_df['ret'].cumsum()\n",
        "      \n",
        "      avg_crr_lo_med['crr'][a].append(period_df['crr'][b-a])\n",
        "\n",
        "for i in avg_crr_lo_med.index: \n",
        "  avg_crr_lo_med['crr'][i]=np.average(avg_crr_lo_med['crr'][i])*100\n",
        "print(avg_crr_lo_med)\n"
      ],
      "metadata": {
        "id": "5DKkQ2P14EBk"
      },
      "execution_count": null,
      "outputs": []
    },
    {
      "cell_type": "markdown",
      "source": [
        "**H/L**"
      ],
      "metadata": {
        "id": "n2vngAlDmsc1"
      }
    },
    {
      "cell_type": "code",
      "source": [
        "#calculate raw returns -H/L\n",
        " \n",
        "startingdays=[1, 6, 21, 41, 61]\n",
        "endingdays=[5, 20, 40, 60, 80]\n",
        "\n",
        "avg_crr_lo_big=pd.DataFrame(index=startingdays, columns=['crr'])\n",
        "for i in avg_crr_lo_big.index:\n",
        "  for j in avg_crr_lo_big.columns:\n",
        "    avg_crr_lo_big[j][i]=[]\n",
        "\n",
        "print(avg_crr_lo_big)\n",
        "#fill new df with cumulative raw return (CRR) data\n",
        "\n",
        "for i in range(len(startingdays)):\n",
        "  a=startingdays[i]\n",
        "  b=endingdays[i]\n",
        "  for rdqdate in tic_of_rdq_lo_big.index:\n",
        "    startindex=str(tic_of_rdq_lo_big[\"tic\"][rdqdate]) + \"/\" + str(rdqdate + a)\n",
        "    endindex=str(tic_of_rdq_lo_big[\"tic\"][rdqdate]) + \"/\" + str(rdqdate + b)\n",
        "    if (startindex in raw_ret_lo_big.index) and (endindex in raw_ret_lo_big.index):\n",
        "      period_df=pd.DataFrame(raw_ret_lo_big.loc[startindex : endindex]).reset_index()\n",
        "      period_df['crr']=period_df['ret'].cumsum()\n",
        "      avg_crr_lo_big['crr'][a].append(period_df['crr'][b-a])\n",
        "\n",
        "for i in avg_crr_lo_big.index: \n",
        "  avg_crr_lo_big['crr'][i]=np.average(avg_crr_lo_big['crr'][i])*100\n",
        "print(avg_crr_lo_big)\n"
      ],
      "metadata": {
        "id": "hRVk0wH573pR"
      },
      "execution_count": null,
      "outputs": []
    },
    {
      "cell_type": "markdown",
      "source": [
        "**S/H**"
      ],
      "metadata": {
        "id": "nT-uRkspmxrO"
      }
    },
    {
      "cell_type": "code",
      "source": [
        "#S/H\n",
        "startingdays=[1, 6, 21, 41, 61]\n",
        "endingdays=[5, 20, 40, 60, 80]\n",
        "\n",
        "avg_crr_hi_small=pd.DataFrame(index=startingdays, columns=['crr'])\n",
        "for i in avg_crr_hi_small.index:\n",
        "  for j in avg_crr_hi_small.columns:\n",
        "    avg_crr_hi_small[j][i]=[]\n",
        "\n",
        "\n",
        "#fill new df with cumulative raw return (CRR) data\n",
        "\n",
        "for i in range(len(startingdays)):\n",
        "  a=startingdays[i]\n",
        "  b=endingdays[i]\n",
        "  for rdqdate in tic_of_rdq_hi_small.index:\n",
        "    startindex=str(tic_of_rdq_hi_small[\"tic\"][rdqdate]) + \"/\" + str(rdqdate + a)\n",
        "    endindex=str(tic_of_rdq_hi_small[\"tic\"][rdqdate]) + \"/\" + str(rdqdate + b)\n",
        "    if (startindex in raw_ret_hi_small.index) and (endindex in raw_ret_hi_small.index):\n",
        "      period_df=pd.DataFrame(raw_ret_hi_small.loc[startindex : endindex]).reset_index()\n",
        "      period_df['crr']=period_df['ret'].cumsum()\n",
        "      avg_crr_hi_small['crr'][a].append(period_df['crr'][b-a])\n",
        "\n",
        "for i in avg_crr_hi_small.index: \n",
        "  avg_crr_hi_small['crr'][i]=np.average(avg_crr_hi_small['crr'][i])*100\n",
        "print(avg_crr_hi_small)"
      ],
      "metadata": {
        "id": "WnIIqoeSlVLl"
      },
      "execution_count": null,
      "outputs": []
    },
    {
      "cell_type": "markdown",
      "source": [
        "**M/H**"
      ],
      "metadata": {
        "id": "mFUVvDwYm6pc"
      }
    },
    {
      "cell_type": "code",
      "source": [
        "startingdays=[1, 6, 21, 41, 61]\n",
        "endingdays=[5, 20, 40, 60, 80]\n",
        "\n",
        "avg_crr_hi_med=pd.DataFrame(index=startingdays, columns=['crr'])\n",
        "for i in avg_crr_hi_med.index:\n",
        "  for j in avg_crr_hi_med.columns:\n",
        "    avg_crr_hi_med[j][i]=[]\n",
        "\n",
        "\n",
        "#fill new df with cumulative raw return (CRR) data\n",
        "\n",
        "for i in range(len(startingdays)):\n",
        "  a=startingdays[i]\n",
        "  b=endingdays[i]\n",
        "  for rdqdate in tic_of_rdq_hi_med.index:\n",
        "    startindex=str(tic_of_rdq_hi_med[\"tic\"][rdqdate]) + \"/\" + str(rdqdate + a)\n",
        "    endindex=str(tic_of_rdq_hi_med[\"tic\"][rdqdate]) + \"/\" + str(rdqdate + b)\n",
        "    if (startindex in raw_ret_hi_med.index) and (endindex in raw_ret_hi_med.index):\n",
        "      period_df=pd.DataFrame(raw_ret_hi_med.loc[startindex : endindex]).reset_index()\n",
        "      period_df['crr']=period_df['ret'].cumsum()\n",
        "      avg_crr_hi_med['crr'][a].append(period_df['crr'][b-a])\n",
        "\n",
        "for i in avg_crr_hi_med.index: \n",
        "  avg_crr_hi_med['crr'][i]=np.average(avg_crr_hi_med['crr'][i])*100\n",
        "print(avg_crr_hi_med)"
      ],
      "metadata": {
        "id": "Jsnz1gKTnAzK"
      },
      "execution_count": null,
      "outputs": []
    },
    {
      "cell_type": "markdown",
      "source": [
        "**H/H**"
      ],
      "metadata": {
        "id": "AQrxUpUCne7R"
      }
    },
    {
      "cell_type": "code",
      "source": [
        "startingdays=[1, 6, 21, 41, 61]\n",
        "endingdays=[5, 20, 40, 60, 80]\n",
        "\n",
        "avg_crr_hi_big=pd.DataFrame(index=startingdays, columns=['crr'])\n",
        "for i in avg_crr_hi_big.index:\n",
        "  for j in avg_crr_hi_big.columns:\n",
        "    avg_crr_hi_big[j][i]=[]\n",
        "\n",
        "\n",
        "#fill new df with cumulative raw return (CRR) data\n",
        "\n",
        "for i in range(len(startingdays)):\n",
        "  a=startingdays[i]\n",
        "  b=endingdays[i]\n",
        "  for rdqdate in tic_of_rdq_hi_big.index:\n",
        "    startindex=str(tic_of_rdq_hi_big[\"tic\"][rdqdate]) + \"/\" + str(rdqdate + a)\n",
        "    endindex=str(tic_of_rdq_hi_big[\"tic\"][rdqdate]) + \"/\" + str(rdqdate + b)\n",
        "    if (startindex in raw_ret_hi_big.index) and (endindex in raw_ret_hi_big.index):\n",
        "      period_df=pd.DataFrame(raw_ret_hi_big.loc[startindex : endindex]).reset_index()\n",
        "      period_df['crr']=period_df['ret'].cumsum()\n",
        "      avg_crr_hi_big['crr'][a].append(period_df['crr'][b-a])\n",
        "\n",
        "for i in avg_crr_hi_big.index: \n",
        "  avg_crr_hi_big['crr'][i]=np.average(avg_crr_hi_big['crr'][i])*100\n",
        "print(avg_crr_hi_big)"
      ],
      "metadata": {
        "id": "nYOO9sL-ni-Z"
      },
      "execution_count": null,
      "outputs": []
    },
    {
      "cell_type": "markdown",
      "source": [
        "# PRODUCE CLEAN TABLE 4"
      ],
      "metadata": {
        "id": "lToTwF1wn7xP"
      }
    },
    {
      "cell_type": "code",
      "source": [
        "#table4a\n",
        "table4a=pd.DataFrame(index=startingdays)\n",
        "table4a[\"postannouncement_period\"]=['(1/5)', '(6, 20)', '(21, 40)', '(41, 60)', '(61, 80)' ]\n",
        "\n",
        "table4a['s/l_rr']=avg_crr_lo_small['crr']\n",
        "table4a['s/l_crr']=table4a['s/l_rr'].cumsum()\n",
        "table4a['m/l_rr']=avg_crr_lo_med['crr']\n",
        "table4a['m/l_crr']=table4a['m/l_rr'].cumsum()\n",
        "table4a['h/l_rr']=avg_crr_lo_big['crr']\n",
        "table4a['h/l_crr']=table4a['h/l_rr'].cumsum()\n",
        "\n",
        "print(table4a)"
      ],
      "metadata": {
        "id": "EiwWJVOZoBgE"
      },
      "execution_count": null,
      "outputs": []
    },
    {
      "cell_type": "code",
      "source": [
        "#table 4b\n",
        "table4b=pd.DataFrame(index=startingdays)\n",
        "table4b[\"postannouncement_period\"]=['(1/5)', '(6, 20)', '(21, 40)', '(41, 60)', '(61, 80)' ]\n",
        "\n",
        "'''S/L'''\n",
        "table4b['s/l_crr_anualized']=\"\"\n",
        "table4b['s/l_crr_anualized'][1]=table4a['s/l_crr'][1] * 252/5\n",
        "table4b['s/l_crr_anualized'][6]=table4a['s/l_crr'][6] * 252/20\n",
        "table4b['s/l_crr_anualized'][21]=table4a['s/l_crr'][21] * 252/40\n",
        "table4b['s/l_crr_anualized'][41]=table4a['s/l_crr'][41] * 252/60\n",
        "table4b['s/l_crr_anualized'][61]=table4a['s/l_crr'][61] * 252/80\n",
        "\n",
        "'''m/l'''\n",
        "table4b['m/l_crr_anualized']=\"\"\n",
        "table4b['m/l_crr_anualized'][1]=table4a['m/l_crr'][1] * 252/5\n",
        "table4b['m/l_crr_anualized'][6]=table4a['m/l_crr'][6] * 252/20\n",
        "table4b['m/l_crr_anualized'][21]=table4a['m/l_crr'][21] * 252/40\n",
        "table4b['m/l_crr_anualized'][41]=table4a['m/l_crr'][41] * 252/60\n",
        "table4b['m/l_crr_anualized'][61]=table4a['m/l_crr'][61] * 252/80\n",
        "\n",
        "'''h/l'''\n",
        "table4b['h/l_crr_anualized']=\"\"\n",
        "table4b['h/l_crr_anualized'][1]=table4a['h/l_crr'][1] * 252/5\n",
        "table4b['h/l_crr_anualized'][6]=table4a['h/l_crr'][6] * 252/20\n",
        "table4b['h/l_crr_anualized'][21]=table4a['h/l_crr'][21] * 252/40\n",
        "table4b['h/l_crr_anualized'][41]=table4a['h/l_crr'][41] * 252/60\n",
        "table4b['h/l_crr_anualized'][61]=table4a['h/l_crr'][61] * 252/80\n",
        "\n"
      ],
      "metadata": {
        "id": "3n5BfmPiqWpb"
      },
      "execution_count": null,
      "outputs": []
    },
    {
      "cell_type": "code",
      "source": [
        "#table 4b continued\n",
        "\n",
        "'''s/h'''\n",
        "table4b['s/h_crr_anualized']=\"\"\n",
        "table4b['s/h_crr_anualized']=avg_crr_hi_small.cumsum()\n",
        "table4b['s/h_crr_anualized'][1]*=252/5\n",
        "table4b['s/h_crr_anualized'][6]*=252/20\n",
        "table4b['s/h_crr_anualized'][21]*=252/40\n",
        "table4b['s/h_crr_anualized'][41]*=252/60\n",
        "table4b['s/h_crr_anualized'][61]*=252/80\n",
        "\n",
        "'''m/h'''\n",
        "table4b['m/h_crr_anualized']=\"\"\n",
        "table4b['m/h_crr_anualized']=avg_crr_hi_med.cumsum()\n",
        "table4b['m/h_crr_anualized'][1]*=252/5\n",
        "table4b['m/h_crr_anualized'][6]*=252/20\n",
        "table4b['m/h_crr_anualized'][21]*=252/40\n",
        "table4b['m/h_crr_anualized'][41]*=252/60\n",
        "table4b['m/h_crr_anualized'][61]*=252/80\n",
        "\n",
        "\n",
        "'''h/h'''\n",
        "table4b['h/h_crr_anualized']=\"\"\n",
        "table4b['h/h_crr_anualized']=avg_crr_hi_small.cumsum()\n",
        "table4b['h/h_crr_anualized'][1]*=252/5\n",
        "table4b['h/h_crr_anualized'][6]*=252/20\n",
        "table4b['h/h_crr_anualized'][21]*=252/40\n",
        "table4b['h/h_crr_anualized'][41]*=252/60\n",
        "table4b['h/h_crr_anualized'][61]*=252/80\n",
        "\n"
      ],
      "metadata": {
        "id": "se4LWqyisbT7"
      },
      "execution_count": null,
      "outputs": []
    },
    {
      "cell_type": "code",
      "source": [
        "print(table4b)"
      ],
      "metadata": {
        "id": "dfgWfA4_tlBQ"
      },
      "execution_count": null,
      "outputs": []
    }
  ]
}